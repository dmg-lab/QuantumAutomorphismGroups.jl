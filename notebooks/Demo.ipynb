{
 "cells": [
  {
   "cell_type": "code",
   "execution_count": 1,
   "id": "549dc892-f712-4610-82a7-f4cada0ce507",
   "metadata": {},
   "outputs": [
    {
     "name": "stdout",
     "output_type": "stream",
     "text": [
      " -----    -----    -----      -      -----   \n",
      "|     |  |     |  |     |    | |    |     |  \n",
      "|     |  |        |         |   |   |     |  \n",
      "|     |   -----   |        |     |  |-----   \n",
      "|     |        |  |        |-----|  |   |    \n",
      "|     |  |     |  |     |  |     |  |    |   \n",
      " -----    -----    -----   -     -  -     -  \n",
      "\n",
      "...combining (and extending) ANTIC, GAP, Polymake and Singular\n",
      "Version\u001b[32m 0.13.1-DEV \u001b[39m... \n",
      " ... which comes with absolutely no warranty whatsoever\n",
      "Type: '?Oscar' for more information\n",
      "(c) 2019-2023 by The OSCAR Development Team\n"
     ]
    }
   ],
   "source": [
    "using Pkg\n",
    "Pkg.activate(\"../\")\n",
    "#When running the first time use:\n",
    "#Pkg.instantiate()\n",
    "include(\"../src/QuantumAutomorphismGroups.jl\");"
   ]
  },
  {
   "cell_type": "code",
   "execution_count": 14,
   "id": "c42d8f48-e26d-4f41-8712-37c777db3732",
   "metadata": {},
   "outputs": [
    {
     "data": {
      "text/plain": [
       "20-element Vector{FreeAssAlgElem{QQFieldElem}}:\n",
       " -u[3,2]*u[2,3] - u[3,3]*u[2,2] + u[2,2] + u[2,3] + u[3,2] + u[3,3] - 1\n",
       " -u[2,2]*u[3,3] + u[3,3]*u[2,2]\n",
       " -u[2,3]*u[3,2] - u[3,3]*u[2,2] + u[2,2] + u[2,3] + u[3,2] + u[3,3] - 1\n",
       " u[2,2]^2 - u[2,2]\n",
       " u[2,2]*u[2,3]\n",
       " u[2,2]*u[3,2]\n",
       " u[2,3]^2 - u[2,3]\n",
       " u[2,3]*u[2,2]\n",
       " u[3,2]*u[2,2]\n",
       " u[3,2]^2 - u[3,2]\n",
       " u[3,2]*u[3,3]\n",
       " u[2,3]*u[3,3]\n",
       " u[3,3]^2 - u[3,3]\n",
       " u[3,3]*u[3,2]\n",
       " u[3,3]*u[2,3]\n",
       " u[1,1] - u[2,2] - u[2,3] - u[3,2] - u[3,3] + 1\n",
       " u[2,1] + u[2,2] + u[2,3] - 1\n",
       " u[1,2] + u[2,2] + u[3,2] - 1\n",
       " u[3,1] + u[3,2] + u[3,3] - 1\n",
       " u[1,3] + u[2,3] + u[3,3] - 1"
      ]
     },
     "execution_count": 14,
     "metadata": {},
     "output_type": "execute_result"
    }
   ],
   "source": [
    "#To get the Relations defining the Quantum Permuatation Group use\n",
    "generators, U, Alg = getQuantumPermutationGroup(3)\n",
    "generators #The generators are in their interreduced Form"
   ]
  },
  {
   "cell_type": "code",
   "execution_count": 23,
   "id": "8e759fd1-41af-4d91-bce4-c49dabe8bf21",
   "metadata": {},
   "outputs": [
    {
     "data": {
      "text/plain": [
       "2040-element Vector{FreeAssAlgElem{QQFieldElem}}:\n",
       " u[1,1]^2 - u[1,1]\n",
       " u[1,1]*u[1,2]\n",
       " u[1,1]*u[2,1]\n",
       " u[1,1]*u[1,3]\n",
       " u[1,1]*u[3,1]\n",
       " u[1,1]*u[1,4]\n",
       " u[1,1]*u[4,1]\n",
       " u[1,2]^2 - u[1,2]\n",
       " u[1,2]*u[1,1]\n",
       " u[2,1]*u[1,1]\n",
       " u[1,2]*u[1,3]\n",
       " u[2,1]*u[3,1]\n",
       " u[1,2]*u[1,4]\n",
       " ⋮\n",
       " u[4,4]*u[3,3]*u[2,3]\n",
       " u[4,4]*u[3,3]*u[3,2]\n",
       " u[4,3]*u[3,4]*u[2,4]\n",
       " u[3,4]*u[4,3]*u[4,2]\n",
       " u[4,4]*u[3,3]*u[2,4]\n",
       " u[4,4]*u[3,3]*u[4,2]\n",
       " u[4,4]*u[3,4]*u[2,3]\n",
       " u[4,4]*u[4,3]*u[3,2]\n",
       " u[4,3]*u[3,3]*u[2,3]\n",
       " u[3,4]*u[3,3]*u[3,2]\n",
       " u[4,4]*u[3,4]*u[2,4]\n",
       " u[4,4]*u[4,3]*u[4,2]"
      ]
     },
     "execution_count": 23,
     "metadata": {},
     "output_type": "execute_result"
    }
   ],
   "source": [
    "#To get the Relations defining Aut_B(M) use\n",
    "M = uniform_matroid(3,4)\n",
    "generators, U, Alg = getMatroidRelations(M,:bases) #Switch :bases with :circuits, :rank, :flats to get the other Aut_*(M)\n",
    "generators"
   ]
  },
  {
   "cell_type": "code",
   "execution_count": 26,
   "id": "99264dc4-1542-4556-8989-73ffeaa1ef88",
   "metadata": {},
   "outputs": [
    {
     "data": {
      "text/plain": [
       "2074-element Vector{FreeAssAlgElem{QQFieldElem}}:\n",
       " u[1,1]^2 - u[1,1]\n",
       " u[1,1]*u[1,2]\n",
       " u[1,1]*u[2,1]\n",
       " u[1,1]*u[1,3]\n",
       " u[1,1]*u[3,1]\n",
       " u[1,1]*u[1,4]\n",
       " u[1,1]*u[4,1]\n",
       " u[1,2]^2 - u[1,2]\n",
       " u[1,2]*u[1,1]\n",
       " u[2,1]*u[1,1]\n",
       " u[1,2]*u[1,3]\n",
       " u[2,1]*u[3,1]\n",
       " u[1,2]*u[1,4]\n",
       " ⋮\n",
       " -u[4,3]*u[3,4]*u[2,2] - u[4,4]*u[3,3]*u[2,2] + u[3,3]*u[2,2] + u[3,4]*u[2,2] + u[4,3]*u[2,2] + u[4,4]*u[2,2] - u[2,2]\n",
       " -u[4,2]*u[2,4]*u[4,2] + u[4,2]*u[2,4]\n",
       " u[2,2]*u[4,4] + u[2,3]*u[4,4] - u[4,4]*u[2,2] - u[4,4]*u[2,3]\n",
       " -u[2,3]*u[4,2] - u[2,4]*u[4,2] - u[4,3]*u[2,2] - u[4,3]*u[2,4] - u[4,4]*u[2,2] - u[4,4]*u[2,3] + u[2,2] + u[2,3] + u[2,4] + u[4,2] + u[4,3] + u[4,4] - 1\n",
       " u[3,4]*u[4,3] - u[4,3]*u[3,4]\n",
       " u[3,4]*u[4,2] - u[4,2]*u[3,4]\n",
       " -u[3,2]*u[2,4] - u[3,3]*u[2,4] - u[3,4]*u[2,2] - u[3,4]*u[2,3] - u[4,2]*u[2,4] - u[4,2]*u[3,4] - u[4,3]*u[2,4] - u[4,3]*u[3,4] - u[4,4]*u[2,2] - u[4,4]*u[2,3] - u[4,4]*u[3,2] - u[4,4]*u[3,3] + u[2,2] + u[2,3] + 2*u[2,4] + u[3,2] + u[3,3] + 2*u[3,4] + u[4,2] + u[4,3] + 2*u[4,4] - 2\n",
       " u[3,3]*u[4,4] - u[4,4]*u[3,3]\n",
       " -u[3,3]*u[2,4] - u[3,4]*u[2,3] - u[4,3]*u[2,4] - u[4,3]*u[3,4] - u[4,4]*u[2,3] - u[4,4]*u[3,3] + u[2,3] + u[2,4] + u[3,3] + u[3,4] + u[4,3] + u[4,4] - 1\n",
       " u[2,4]*u[4,3] - u[4,3]*u[2,4]\n",
       " u[2,4]*u[4,2] - u[4,2]*u[2,4]\n",
       " u[2,3]*u[4,4] - u[4,4]*u[2,3]"
      ]
     },
     "execution_count": 26,
     "metadata": {},
     "output_type": "execute_result"
    }
   ],
   "source": [
    "#Befor checking if this Ideal defines a quantum group with symmetries, we need a nc-groebner_basis:\n",
    "gb = AbstractAlgebra.groebner_basis(generators)"
   ]
  },
  {
   "cell_type": "code",
   "execution_count": 30,
   "id": "8ccf91cd-e05d-429d-94de-ad448c99e60d",
   "metadata": {},
   "outputs": [
    {
     "data": {
      "text/plain": [
       "true"
      ]
     },
     "execution_count": 30,
     "metadata": {},
     "output_type": "execute_result"
    }
   ],
   "source": [
    "#Now we can check if the ideal generated by the nc-gb is commutative\n",
    "result, containment = isCommutative(gb)\n",
    "result"
   ]
  },
  {
   "cell_type": "code",
   "execution_count": 31,
   "id": "1d723296-9f67-4de7-ae70-6749b26422bf",
   "metadata": {},
   "outputs": [
    {
     "data": {
      "text/plain": [
       "Dict{FreeAssAlgElem, Bool} with 72 entries:\n",
       "  u[2,4]*u[4,2] - u[4,2]*u[2,4] => 1\n",
       "  u[3,4]*u[4,1] - u[4,1]*u[3,4] => 1\n",
       "  u[1,1]*u[4,3] - u[4,3]*u[1,1] => 1\n",
       "  u[1,3]*u[3,1] - u[3,1]*u[1,3] => 1\n",
       "  u[2,3]*u[4,2] - u[4,2]*u[2,3] => 1\n",
       "  u[3,3]*u[4,1] - u[4,1]*u[3,3] => 1\n",
       "  u[1,3]*u[2,2] - u[2,2]*u[1,3] => 1\n",
       "  u[1,2]*u[3,1] - u[3,1]*u[1,2] => 1\n",
       "  u[1,1]*u[3,2] - u[3,2]*u[1,1] => 1\n",
       "  u[2,4]*u[3,3] - u[3,3]*u[2,4] => 1\n",
       "  u[2,3]*u[3,4] - u[3,4]*u[2,3] => 1\n",
       "  u[1,1]*u[2,3] - u[2,3]*u[1,1] => 1\n",
       "  u[2,2]*u[4,3] - u[4,3]*u[2,2] => 1\n",
       "  u[2,2]*u[3,4] - u[3,4]*u[2,2] => 1\n",
       "  u[1,1]*u[4,2] - u[4,2]*u[1,1] => 1\n",
       "  u[2,1]*u[4,4] - u[4,4]*u[2,1] => 1\n",
       "  u[2,3]*u[4,4] - u[4,4]*u[2,3] => 1\n",
       "  u[2,3]*u[3,2] - u[3,2]*u[2,3] => 1\n",
       "  u[1,2]*u[4,4] - u[4,4]*u[1,2] => 1\n",
       "  u[3,2]*u[4,3] - u[4,3]*u[3,2] => 1\n",
       "  u[1,1]*u[2,2] - u[2,2]*u[1,1] => 1\n",
       "  u[2,4]*u[4,1] - u[4,1]*u[2,4] => 1\n",
       "  u[1,4]*u[2,2] - u[2,2]*u[1,4] => 1\n",
       "  u[2,2]*u[4,4] - u[4,4]*u[2,2] => 1\n",
       "  u[2,1]*u[3,2] - u[3,2]*u[2,1] => 1\n",
       "  ⋮                             => ⋮"
      ]
     },
     "execution_count": 31,
     "metadata": {},
     "output_type": "execute_result"
    }
   ],
   "source": [
    "#containment is A dictionary that contains information about which commutativity relations are in the ideal and which are not.\n",
    "containment"
   ]
  },
  {
   "cell_type": "code",
   "execution_count": 37,
   "id": "b3a0c0c6-7e24-42fc-9d5d-a68ab1961880",
   "metadata": {},
   "outputs": [
    {
     "data": {
      "text/plain": [
       "true"
      ]
     },
     "execution_count": 37,
     "metadata": {},
     "output_type": "execute_result"
    }
   ],
   "source": [
    "U = uniform_matroid(2,4)\n",
    "gens2, _, _ = getMatroidRelations(U)\n",
    "gb2 = AbstractAlgebra.groebner_basis(gens2)\n",
    "#To check inclusion of different quantum automorphism groups do:\n",
    "isInIdeal(gb2,gb)"
   ]
  },
  {
   "cell_type": "markdown",
   "id": "4eb94e19-4e86-4e5e-b391-f1bfa4a9abe4",
   "metadata": {},
   "source": [
    "This means that the ideal generated by $gb2$ is contained in the ideal defined by $gb$ (so the inclusion of the actual quantum group is reversed). This coincides with the fact that Aut_B of any uniform matroid is contained in Aut_B of uniform matroids of lower rank.\n"
   ]
  },
  {
   "cell_type": "markdown",
   "id": "ca3319bc-ab93-4b35-be6c-6f5d0a69a184",
   "metadata": {},
   "source": [
    "Fano sadly doesn't work in the notebook....."
   ]
  }
 ],
 "metadata": {
  "kernelspec": {
   "display_name": "Julia 1.9.1",
   "language": "julia",
   "name": "julia-1.9"
  },
  "language_info": {
   "file_extension": ".jl",
   "mimetype": "application/julia",
   "name": "julia",
   "version": "1.9.3"
  }
 },
 "nbformat": 4,
 "nbformat_minor": 5
}
