{
 "cells": [
  {
   "cell_type": "code",
   "execution_count": 13,
   "id": "bd84c638-1922-4e84-a812-d91cd66b61dd",
   "metadata": {},
   "outputs": [],
   "source": [
    "Pkg.activate(\"..\")"
   ]
  },
  {
   "cell_type": "code",
   "execution_count": 18,
   "id": "549dc892-f712-4610-82a7-f4cada0ce507",
   "metadata": {},
   "outputs": [
    {
     "data": {
      "text/plain": [
       "getRelations2 (generic function with 2 methods)"
      ]
     },
     "execution_count": 18,
     "metadata": {},
     "output_type": "execute_result"
    }
   ],
   "source": [
    "using Oscar\n",
    "include(\"./matroid_relations.jl\")\n",
    "include(\"./utils.jl\")\n",
    "include(\"./multiSetMatroid.jl\")\n",
    "include(\"./quantumMatroid.jl\")"
   ]
  },
  {
   "cell_type": "code",
   "execution_count": 24,
   "id": "c42d8f48-e26d-4f41-8712-37c777db3732",
   "metadata": {},
   "outputs": [
    {
     "data": {
      "text/plain": [
       "50-element Vector{FreeAssAlgElem{QQFieldElem}}:\n",
       " u[1,1]^2 - u[1,1]\n",
       " u[1,1]*u[1,2]\n",
       " u[1,1]*u[2,1]\n",
       " u[1,1]*u[1,3]\n",
       " u[1,1]*u[3,1]\n",
       " u[1,2]^2 - u[1,2]\n",
       " u[1,2]*u[1,1]\n",
       " u[2,1]*u[1,1]\n",
       " u[1,2]*u[1,3]\n",
       " u[2,1]*u[3,1]\n",
       " u[1,3]^2 - u[1,3]\n",
       " u[1,3]*u[1,1]\n",
       " u[3,1]*u[1,1]\n",
       " ⋮\n",
       " u[3,2]*u[3,3]\n",
       " u[2,3]*u[3,3]\n",
       " u[3,3]^2 - u[3,3]\n",
       " u[3,3]*u[3,1]\n",
       " u[3,3]*u[1,3]\n",
       " u[3,3]*u[3,2]\n",
       " u[3,3]*u[2,3]\n",
       " u[1,1] + u[1,2] + u[1,3] - 1\n",
       " -u[1,2] - u[1,3] + u[2,1] + u[3,1]\n",
       " u[2,1] + u[2,2] + u[2,3] - 1\n",
       " -u[1,3] - u[2,3] + u[3,1] + u[3,2]\n",
       " u[3,1] + u[3,2] + u[3,3] - 1"
      ]
     },
     "execution_count": 24,
     "metadata": {},
     "output_type": "execute_result"
    }
   ],
   "source": [
    "mat = uniform_matroid(2,3)\n",
    "Alg, Ideal, gens , aut = getIdeal(mat); #creates bases version auf Aut+(M)\n",
    "gens"
   ]
  },
  {
   "cell_type": "code",
   "execution_count": 28,
   "id": "8e759fd1-41af-4d91-bce4-c49dabe8bf21",
   "metadata": {},
   "outputs": [
    {
     "data": {
      "text/plain": [
       "56-element Vector{FreeAssAlgElem{QQFieldElem}}:\n",
       " u[1,1]^2 - u[1,1]\n",
       " u[1,1]*u[1,2]\n",
       " u[1,1]*u[2,1]\n",
       " u[1,1]*u[1,3]\n",
       " u[1,1]*u[3,1]\n",
       " u[1,2]^2 - u[1,2]\n",
       " u[1,2]*u[1,1]\n",
       " u[2,1]*u[1,1]\n",
       " u[1,2]*u[1,3]\n",
       " u[2,1]*u[3,1]\n",
       " u[1,3]^2 - u[1,3]\n",
       " u[1,3]*u[1,1]\n",
       " u[3,1]*u[1,1]\n",
       " ⋮\n",
       " u[3,3]*u[2,3]\n",
       " u[1,1] + u[1,2] + u[1,3] - 1\n",
       " -u[1,2] - u[1,3] + u[2,1] + u[3,1]\n",
       " u[2,1] + u[2,2] + u[2,3] - 1\n",
       " -u[1,3] - u[2,3] + u[3,1] + u[3,2]\n",
       " u[3,1] + u[3,2] + u[3,3] - 1\n",
       " -u[3,3]*u[2,2]*u[3,3] + u[3,3]*u[2,2]\n",
       " -u[3,2]*u[2,3]*u[3,2] + u[3,2]*u[2,3]\n",
       " -u[2,3]*u[3,2]*u[2,3] + u[2,3]*u[3,2]\n",
       " -u[2,2]*u[3,3] + u[3,3]*u[2,2]\n",
       " u[2,3]*u[3,2] - u[3,2]*u[2,3]\n",
       " -u[3,2]*u[2,3] - u[3,3]*u[2,2] + u[2,2] + u[2,3] + u[3,2] + u[3,3] - 1"
      ]
     },
     "execution_count": 28,
     "metadata": {},
     "output_type": "execute_result"
    }
   ],
   "source": [
    "_, Ideal_C, gens_C , aut_C = getIdeal(mat,:circuits); #creates circuits version auf Aut+(M)\n",
    "gens_C"
   ]
  },
  {
   "cell_type": "code",
   "execution_count": 29,
   "id": "8ccf91cd-e05d-429d-94de-ad448c99e60d",
   "metadata": {},
   "outputs": [
    {
     "data": {
      "text/plain": [
       "true"
      ]
     },
     "execution_count": 29,
     "metadata": {},
     "output_type": "execute_result"
    }
   ],
   "source": [
    "#Check if both of them are the same Ideal\n",
    "generateSameIdeal(Ideal,Ideal_C,4)"
   ]
  },
  {
   "cell_type": "code",
   "execution_count": 31,
   "id": "b3a0c0c6-7e24-42fc-9d5d-a68ab1961880",
   "metadata": {},
   "outputs": [
    {
     "data": {
      "text/plain": [
       "true"
      ]
     },
     "execution_count": 31,
     "metadata": {},
     "output_type": "execute_result"
    }
   ],
   "source": [
    "#Check if a the quantumgroup defined by an ideal would be commutative\n",
    "isCommutative(Alg,Ideal,4)"
   ]
  },
  {
   "cell_type": "code",
   "execution_count": null,
   "id": "df775d30-9776-4a52-9f41-45afb8caae42",
   "metadata": {},
   "outputs": [],
   "source": []
  }
 ],
 "metadata": {
  "kernelspec": {
   "display_name": "Julia 1.9.1",
   "language": "julia",
   "name": "julia-1.9"
  },
  "language_info": {
   "file_extension": ".jl",
   "mimetype": "application/julia",
   "name": "julia",
   "version": "1.9.2"
  }
 },
 "nbformat": 4,
 "nbformat_minor": 5
}
