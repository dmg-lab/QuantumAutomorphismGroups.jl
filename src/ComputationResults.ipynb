{
 "cells": [
  {
   "cell_type": "code",
   "execution_count": 3,
   "id": "6a407442-0f84-4f2d-ad83-38924f068430",
   "metadata": {},
   "outputs": [],
   "source": [
    "include(\"./tableComputation.jl\");"
   ]
  },
  {
   "cell_type": "code",
   "execution_count": 4,
   "id": "33ab50a8-652c-4f18-970a-391a3bc7c162",
   "metadata": {},
   "outputs": [
    {
     "data": {
      "text/plain": [
       "loadAll (generic function with 1 method)"
      ]
     },
     "execution_count": 4,
     "metadata": {},
     "output_type": "execute_result"
    }
   ],
   "source": []
  },
  {
   "cell_type": "code",
   "execution_count": 4,
   "id": "4c95704d-d7e2-4052-a885-308c539e1e57",
   "metadata": {},
   "outputs": [
    {
     "data": {
      "text/html": [
       "<div><div style = \"float: left;\"><span>36×8 DataFrame</span></div><div style = \"float: right;\"><span style = \"font-style: italic;\">11 rows omitted</span></div><div style = \"clear: both;\"></div></div><div class = \"data-frame\" style = \"overflow-x: scroll;\"><table class = \"data-frame\" style = \"margin-bottom: 6px;\"><thead><tr class = \"header\"><th class = \"rowNumber\" style = \"font-weight: bold; text-align: right;\">Row</th><th style = \"text-align: left;\">Name</th><th style = \"text-align: left;\">length</th><th style = \"text-align: left;\">rank</th><th style = \"text-align: left;\">Aut_B</th><th style = \"text-align: left;\">Aut_R</th><th style = \"text-align: left;\">Aut_F</th><th style = \"text-align: left;\">Aut_C</th><th style = \"text-align: left;\">describe</th></tr><tr class = \"subheader headerLastRow\"><th class = \"rowNumber\" style = \"font-weight: bold; text-align: right;\"></th><th title = \"String15\" style = \"text-align: left;\">String15</th><th title = \"Int64\" style = \"text-align: left;\">Int64</th><th title = \"Int64\" style = \"text-align: left;\">Int64</th><th title = \"Bool\" style = \"text-align: left;\">Bool</th><th title = \"Union{Missing, Bool}\" style = \"text-align: left;\">Bool?</th><th title = \"Union{Missing, Bool}\" style = \"text-align: left;\">Bool?</th><th title = \"Union{Missing, Bool}\" style = \"text-align: left;\">Bool?</th><th title = \"Union{Missing, String7}\" style = \"text-align: left;\">String7?</th></tr></thead><tbody><tr><td class = \"rowNumber\" style = \"font-weight: bold; text-align: right;\">1</td><td style = \"text-align: left;\">r2n5_1f3</td><td style = \"text-align: right;\">5</td><td style = \"text-align: right;\">2</td><td style = \"text-align: right;\">false</td><td style = \"font-style: italic; text-align: right;\">missing</td><td style = \"font-style: italic; text-align: right;\">missing</td><td style = \"text-align: right;\">true</td><td style = \"text-align: left;\">D12</td></tr><tr><td class = \"rowNumber\" style = \"font-weight: bold; text-align: right;\">2</td><td style = \"text-align: left;\">r1n2_1</td><td style = \"text-align: right;\">2</td><td style = \"text-align: right;\">1</td><td style = \"text-align: right;\">true</td><td style = \"font-style: italic; text-align: right;\">missing</td><td style = \"text-align: right;\">true</td><td style = \"text-align: right;\">true</td><td style = \"text-align: left;\">1</td></tr><tr><td class = \"rowNumber\" style = \"font-weight: bold; text-align: right;\">3</td><td style = \"text-align: left;\">r1n3_1</td><td style = \"text-align: right;\">3</td><td style = \"text-align: right;\">1</td><td style = \"text-align: right;\">true</td><td style = \"font-style: italic; text-align: right;\">missing</td><td style = \"font-style: italic; text-align: right;\">missing</td><td style = \"text-align: right;\">true</td><td style = \"text-align: left;\">C2</td></tr><tr><td class = \"rowNumber\" style = \"font-weight: bold; text-align: right;\">4</td><td style = \"text-align: left;\">r1n5_1</td><td style = \"text-align: right;\">5</td><td style = \"text-align: right;\">1</td><td style = \"text-align: right;\">false</td><td style = \"font-style: italic; text-align: right;\">missing</td><td style = \"font-style: italic; text-align: right;\">missing</td><td style = \"text-align: right;\">false</td><td style = \"text-align: left;\">S4</td></tr><tr><td class = \"rowNumber\" style = \"font-weight: bold; text-align: right;\">5</td><td style = \"text-align: left;\">r1n5_1f</td><td style = \"text-align: right;\">5</td><td style = \"text-align: right;\">1</td><td style = \"text-align: right;\">false</td><td style = \"font-style: italic; text-align: right;\">missing</td><td style = \"font-style: italic; text-align: right;\">missing</td><td style = \"text-align: right;\">false</td><td style = \"text-align: left;\">S5</td></tr><tr><td class = \"rowNumber\" style = \"font-weight: bold; text-align: right;\">6</td><td style = \"text-align: left;\">r2n4_1f</td><td style = \"text-align: right;\">4</td><td style = \"text-align: right;\">2</td><td style = \"text-align: right;\">false</td><td style = \"font-style: italic; text-align: right;\">missing</td><td style = \"font-style: italic; text-align: right;\">missing</td><td style = \"text-align: right;\">true</td><td style = \"text-align: left;\">C2 x C2</td></tr><tr><td class = \"rowNumber\" style = \"font-weight: bold; text-align: right;\">7</td><td style = \"text-align: left;\">r2n4_1</td><td style = \"text-align: right;\">4</td><td style = \"text-align: right;\">2</td><td style = \"text-align: right;\">false</td><td style = \"font-style: italic; text-align: right;\">missing</td><td style = \"font-style: italic; text-align: right;\">missing</td><td style = \"text-align: right;\">false</td><td style = \"text-align: left;\">C2 x C2</td></tr><tr><td class = \"rowNumber\" style = \"font-weight: bold; text-align: right;\">8</td><td style = \"text-align: left;\">r1n2_3</td><td style = \"text-align: right;\">2</td><td style = \"text-align: right;\">1</td><td style = \"text-align: right;\">true</td><td style = \"text-align: right;\">true</td><td style = \"text-align: right;\">true</td><td style = \"text-align: right;\">true</td><td style = \"text-align: left;\">C2</td></tr><tr><td class = \"rowNumber\" style = \"font-weight: bold; text-align: right;\">9</td><td style = \"text-align: left;\">r1n3_3</td><td style = \"text-align: right;\">3</td><td style = \"text-align: right;\">1</td><td style = \"text-align: right;\">true</td><td style = \"font-style: italic; text-align: right;\">missing</td><td style = \"font-style: italic; text-align: right;\">missing</td><td style = \"text-align: right;\">true</td><td style = \"text-align: left;\">C2</td></tr><tr><td class = \"rowNumber\" style = \"font-weight: bold; text-align: right;\">10</td><td style = \"text-align: left;\">r2n4_b</td><td style = \"text-align: right;\">4</td><td style = \"text-align: right;\">2</td><td style = \"text-align: right;\">true</td><td style = \"font-style: italic; text-align: right;\">missing</td><td style = \"font-style: italic; text-align: right;\">missing</td><td style = \"text-align: right;\">true</td><td style = \"text-align: left;\">S3</td></tr><tr><td class = \"rowNumber\" style = \"font-weight: bold; text-align: right;\">11</td><td style = \"text-align: left;\">r2n5_033</td><td style = \"text-align: right;\">5</td><td style = \"text-align: right;\">2</td><td style = \"text-align: right;\">false</td><td style = \"font-style: italic; text-align: right;\">missing</td><td style = \"font-style: italic; text-align: right;\">missing</td><td style = \"text-align: right;\">false</td><td style = \"text-align: left;\">S4</td></tr><tr><td class = \"rowNumber\" style = \"font-weight: bold; text-align: right;\">12</td><td style = \"text-align: left;\">r2n5_043</td><td style = \"text-align: right;\">5</td><td style = \"text-align: right;\">2</td><td style = \"text-align: right;\">false</td><td style = \"font-style: italic; text-align: right;\">missing</td><td style = \"font-style: italic; text-align: right;\">missing</td><td style = \"text-align: right;\">false</td><td style = \"text-align: left;\">D12</td></tr><tr><td class = \"rowNumber\" style = \"font-weight: bold; text-align: right;\">13</td><td style = \"text-align: left;\">r1n4_f</td><td style = \"text-align: right;\">4</td><td style = \"text-align: right;\">1</td><td style = \"text-align: right;\">false</td><td style = \"font-style: italic; text-align: right;\">missing</td><td style = \"font-style: italic; text-align: right;\">missing</td><td style = \"text-align: right;\">false</td><td style = \"text-align: left;\">S4</td></tr><tr><td style = \"text-align: right;\">&vellip;</td><td style = \"text-align: right;\">&vellip;</td><td style = \"text-align: right;\">&vellip;</td><td style = \"text-align: right;\">&vellip;</td><td style = \"text-align: right;\">&vellip;</td><td style = \"text-align: right;\">&vellip;</td><td style = \"text-align: right;\">&vellip;</td><td style = \"text-align: right;\">&vellip;</td><td style = \"text-align: right;\">&vellip;</td></tr><tr><td class = \"rowNumber\" style = \"font-weight: bold; text-align: right;\">25</td><td style = \"text-align: left;\">r2n5_7f3</td><td style = \"text-align: right;\">5</td><td style = \"text-align: right;\">2</td><td style = \"text-align: right;\">false</td><td style = \"font-style: italic; text-align: right;\">missing</td><td style = \"font-style: italic; text-align: right;\">missing</td><td style = \"text-align: right;\">true</td><td style = \"text-align: left;\">D12</td></tr><tr><td class = \"rowNumber\" style = \"font-weight: bold; text-align: right;\">26</td><td style = \"text-align: left;\">r1n5_f</td><td style = \"text-align: right;\">5</td><td style = \"text-align: right;\">1</td><td style = \"text-align: right;\">false</td><td style = \"font-style: italic; text-align: right;\">missing</td><td style = \"font-style: italic; text-align: right;\">missing</td><td style = \"text-align: right;\">false</td><td style = \"text-align: left;\">S4</td></tr><tr><td class = \"rowNumber\" style = \"font-weight: bold; text-align: right;\">27</td><td style = \"text-align: left;\">r2n4_3</td><td style = \"text-align: right;\">4</td><td style = \"text-align: right;\">2</td><td style = \"text-align: right;\">true</td><td style = \"font-style: italic; text-align: right;\">missing</td><td style = \"font-style: italic; text-align: right;\">missing</td><td style = \"text-align: right;\">true</td><td style = \"text-align: left;\">C2</td></tr><tr><td class = \"rowNumber\" style = \"font-weight: bold; text-align: right;\">28</td><td style = \"text-align: left;\">r2n5_013</td><td style = \"text-align: right;\">5</td><td style = \"text-align: right;\">2</td><td style = \"text-align: right;\">true</td><td style = \"font-style: italic; text-align: right;\">missing</td><td style = \"font-style: italic; text-align: right;\">missing</td><td style = \"text-align: right;\">true</td><td style = \"text-align: left;\">S3</td></tr><tr><td class = \"rowNumber\" style = \"font-weight: bold; text-align: right;\">29</td><td style = \"text-align: left;\">r2n4_3f</td><td style = \"text-align: right;\">4</td><td style = \"text-align: right;\">2</td><td style = \"text-align: right;\">false</td><td style = \"font-style: italic; text-align: right;\">missing</td><td style = \"font-style: italic; text-align: right;\">missing</td><td style = \"text-align: right;\">true</td><td style = \"text-align: left;\">S4</td></tr><tr><td class = \"rowNumber\" style = \"font-weight: bold; text-align: right;\">30</td><td style = \"text-align: left;\">r1n4_3</td><td style = \"text-align: right;\">4</td><td style = \"text-align: right;\">1</td><td style = \"text-align: right;\">false</td><td style = \"font-style: italic; text-align: right;\">missing</td><td style = \"font-style: italic; text-align: right;\">missing</td><td style = \"text-align: right;\">false</td><td style = \"text-align: left;\">C2 x C2</td></tr><tr><td class = \"rowNumber\" style = \"font-weight: bold; text-align: right;\">31</td><td style = \"text-align: left;\">r2n4_1e</td><td style = \"text-align: right;\">4</td><td style = \"text-align: right;\">2</td><td style = \"text-align: right;\">false</td><td style = \"font-style: italic; text-align: right;\">missing</td><td style = \"font-style: italic; text-align: right;\">missing</td><td style = \"text-align: right;\">false</td><td style = \"text-align: left;\">D8</td></tr><tr><td class = \"rowNumber\" style = \"font-weight: bold; text-align: right;\">32</td><td style = \"text-align: left;\">r2n5_ff3</td><td style = \"text-align: right;\">5</td><td style = \"text-align: right;\">2</td><td style = \"text-align: right;\">false</td><td style = \"font-style: italic; text-align: right;\">missing</td><td style = \"font-style: italic; text-align: right;\">missing</td><td style = \"text-align: right;\">true</td><td style = \"text-align: left;\">S5</td></tr><tr><td class = \"rowNumber\" style = \"font-weight: bold; text-align: right;\">33</td><td style = \"text-align: left;\">r2n5_7b3</td><td style = \"text-align: right;\">5</td><td style = \"text-align: right;\">2</td><td style = \"text-align: right;\">false</td><td style = \"font-style: italic; text-align: right;\">missing</td><td style = \"font-style: italic; text-align: right;\">missing</td><td style = \"text-align: right;\">false</td><td style = \"text-align: left;\">D8</td></tr><tr><td class = \"rowNumber\" style = \"font-weight: bold; text-align: right;\">34</td><td style = \"text-align: left;\">r1n4_1</td><td style = \"text-align: right;\">4</td><td style = \"text-align: right;\">1</td><td style = \"text-align: right;\">true</td><td style = \"font-style: italic; text-align: right;\">missing</td><td style = \"font-style: italic; text-align: right;\">missing</td><td style = \"text-align: right;\">true</td><td style = \"text-align: left;\">S3</td></tr><tr><td class = \"rowNumber\" style = \"font-weight: bold; text-align: right;\">35</td><td style = \"text-align: left;\">r1n3_7</td><td style = \"text-align: right;\">3</td><td style = \"text-align: right;\">1</td><td style = \"text-align: right;\">true</td><td style = \"text-align: right;\">missing</td><td style = \"text-align: right;\">missing</td><td style = \"text-align: right;\">true</td><td style = \"font-style: italic; text-align: left;\">S3</td></tr><tr><td class = \"rowNumber\" style = \"font-weight: bold; text-align: right;\">36</td><td style = \"text-align: left;\">r3n4_f</td><td style = \"text-align: right;\">4</td><td style = \"text-align: right;\">3</td><td style = \"text-align: right;\">true</td><td style = \"font-style: italic; text-align: right;\">missing</td><td style = \"font-style: italic; text-align: right;\">missing</td><td style = \"text-align: right;\">missing</td><td style = \"text-align: left;\">S4</td></tr></tbody></table></div>"
      ],
      "text/latex": [
       "\\begin{tabular}{r|cccccccc}\n",
       "\t& Name & length & rank & Aut\\_B & Aut\\_R & Aut\\_F & Aut\\_C & describe\\\\\n",
       "\t\\hline\n",
       "\t& String15 & Int64 & Int64 & Bool & Bool? & Bool? & Bool? & String7?\\\\\n",
       "\t\\hline\n",
       "\t1 & r2n5\\_1f3 & 5 & 2 & 0 & \\emph{missing} & \\emph{missing} & 1 & D12 \\\\\n",
       "\t2 & r1n2\\_1 & 2 & 1 & 1 & \\emph{missing} & 1 & 1 & 1 \\\\\n",
       "\t3 & r1n3\\_1 & 3 & 1 & 1 & \\emph{missing} & \\emph{missing} & 1 & C2 \\\\\n",
       "\t4 & r1n5\\_1 & 5 & 1 & 0 & \\emph{missing} & \\emph{missing} & 0 & S4 \\\\\n",
       "\t5 & r1n5\\_1f & 5 & 1 & 0 & \\emph{missing} & \\emph{missing} & 0 & S5 \\\\\n",
       "\t6 & r2n4\\_1f & 4 & 2 & 0 & \\emph{missing} & \\emph{missing} & 1 & C2 x C2 \\\\\n",
       "\t7 & r2n4\\_1 & 4 & 2 & 0 & \\emph{missing} & \\emph{missing} & 0 & C2 x C2 \\\\\n",
       "\t8 & r1n2\\_3 & 2 & 1 & 1 & 1 & 1 & 1 & C2 \\\\\n",
       "\t9 & r1n3\\_3 & 3 & 1 & 1 & \\emph{missing} & \\emph{missing} & 1 & C2 \\\\\n",
       "\t10 & r2n4\\_b & 4 & 2 & 1 & \\emph{missing} & \\emph{missing} & 1 & S3 \\\\\n",
       "\t11 & r2n5\\_033 & 5 & 2 & 0 & \\emph{missing} & \\emph{missing} & 0 & S4 \\\\\n",
       "\t12 & r2n5\\_043 & 5 & 2 & 0 & \\emph{missing} & \\emph{missing} & 0 & D12 \\\\\n",
       "\t13 & r1n4\\_f & 4 & 1 & 0 & \\emph{missing} & \\emph{missing} & 0 & S4 \\\\\n",
       "\t14 & r1n5\\_7 & 5 & 1 & 0 & \\emph{missing} & \\emph{missing} & 0 & D12 \\\\\n",
       "\t15 & r2n5\\_0d2 & 5 & 2 & 0 & \\emph{missing} & \\emph{missing} & 0 & D8 \\\\\n",
       "\t16 & r2n5\\_0d3 & 5 & 2 & 0 & \\emph{missing} & \\emph{missing} & 1 & C2 x C2 \\\\\n",
       "\t17 & r1n4\\_7 & 4 & 1 & 1 & \\emph{missing} & \\emph{missing} & 1 & S3 \\\\\n",
       "\t18 & r2n4\\_7 & 4 & 2 & 1 & \\emph{missing} & \\emph{missing} & 1 & S3 \\\\\n",
       "\t19 & r2n5\\_003 & 5 & 2 & 0 & \\emph{missing} & \\emph{missing} & 0 & C2 x C2 \\\\\n",
       "\t20 & r2n5\\_001 & 5 & 2 & 0 & \\emph{missing} & \\emph{missing} & 0 & D12 \\\\\n",
       "\t21 & r2n5\\_1f2 & 5 & 2 & 0 & \\emph{missing} & \\emph{missing} & 0 & D12 \\\\\n",
       "\t22 & r2n5\\_2d3 & 5 & 2 & 0 & \\emph{missing} & \\emph{missing} & 1 & S4 \\\\\n",
       "\t23 & r1n5\\_3 & 5 & 1 & 0 & \\emph{missing} & \\emph{missing} & 0 & D12 \\\\\n",
       "\t24 & r0n2\\_1 & 2 & 0 & 1 & 1 & 1 & 1 & \\emph{missing} \\\\\n",
       "\t25 & r2n5\\_7f3 & 5 & 2 & 0 & \\emph{missing} & \\emph{missing} & 1 & D12 \\\\\n",
       "\t26 & r1n5\\_f & 5 & 1 & 0 & \\emph{missing} & \\emph{missing} & 0 & S4 \\\\\n",
       "\t27 & r2n4\\_3 & 4 & 2 & 1 & \\emph{missing} & \\emph{missing} & 1 & C2 \\\\\n",
       "\t28 & r2n5\\_013 & 5 & 2 & 1 & \\emph{missing} & \\emph{missing} & 1 & S3 \\\\\n",
       "\t29 & r2n4\\_3f & 4 & 2 & 0 & \\emph{missing} & \\emph{missing} & 1 & S4 \\\\\n",
       "\t30 & r1n4\\_3 & 4 & 1 & 0 & \\emph{missing} & \\emph{missing} & 0 & C2 x C2 \\\\\n",
       "\t$\\dots$ & $\\dots$ & $\\dots$ & $\\dots$ & $\\dots$ & $\\dots$ & $\\dots$ & $\\dots$ & $\\dots$ \\\\\n",
       "\\end{tabular}\n"
      ],
      "text/plain": [
       "\u001b[1m36×8 DataFrame\u001b[0m\n",
       "\u001b[1m Row \u001b[0m│\u001b[1m Name     \u001b[0m\u001b[1m length \u001b[0m\u001b[1m rank  \u001b[0m\u001b[1m Aut_B \u001b[0m\u001b[1m Aut_R   \u001b[0m\u001b[1m Aut_F   \u001b[0m\u001b[1m Aut_C   \u001b[0m\u001b[1m describe \u001b[0m\n",
       "     │\u001b[90m String15 \u001b[0m\u001b[90m Int64  \u001b[0m\u001b[90m Int64 \u001b[0m\u001b[90m Bool  \u001b[0m\u001b[90m Bool?   \u001b[0m\u001b[90m Bool?   \u001b[0m\u001b[90m Bool?   \u001b[0m\u001b[90m String7? \u001b[0m\n",
       "─────┼─────────────────────────────────────────────────────────────────────\n",
       "   1 │ r2n5_1f3       5      2  false \u001b[90m missing \u001b[0m\u001b[90m missing \u001b[0m    true  D12\n",
       "   2 │ r1n2_1         2      1   true \u001b[90m missing \u001b[0m    true     true  1\n",
       "   3 │ r1n3_1         3      1   true \u001b[90m missing \u001b[0m\u001b[90m missing \u001b[0m    true  C2\n",
       "   4 │ r1n5_1         5      1  false \u001b[90m missing \u001b[0m\u001b[90m missing \u001b[0m   false  S4\n",
       "   5 │ r1n5_1f        5      1  false \u001b[90m missing \u001b[0m\u001b[90m missing \u001b[0m   false  S5\n",
       "   6 │ r2n4_1f        4      2  false \u001b[90m missing \u001b[0m\u001b[90m missing \u001b[0m    true  C2 x C2\n",
       "   7 │ r2n4_1         4      2  false \u001b[90m missing \u001b[0m\u001b[90m missing \u001b[0m   false  C2 x C2\n",
       "   8 │ r1n2_3         2      1   true     true     true     true  C2\n",
       "   9 │ r1n3_3         3      1   true \u001b[90m missing \u001b[0m\u001b[90m missing \u001b[0m    true  C2\n",
       "  10 │ r2n4_b         4      2   true \u001b[90m missing \u001b[0m\u001b[90m missing \u001b[0m    true  S3\n",
       "  11 │ r2n5_033       5      2  false \u001b[90m missing \u001b[0m\u001b[90m missing \u001b[0m   false  S4\n",
       "  ⋮  │    ⋮        ⋮       ⋮      ⋮       ⋮        ⋮        ⋮        ⋮\n",
       "  27 │ r2n4_3         4      2   true \u001b[90m missing \u001b[0m\u001b[90m missing \u001b[0m    true  C2\n",
       "  28 │ r2n5_013       5      2   true \u001b[90m missing \u001b[0m\u001b[90m missing \u001b[0m    true  S3\n",
       "  29 │ r2n4_3f        4      2  false \u001b[90m missing \u001b[0m\u001b[90m missing \u001b[0m    true  S4\n",
       "  30 │ r1n4_3         4      1  false \u001b[90m missing \u001b[0m\u001b[90m missing \u001b[0m   false  C2 x C2\n",
       "  31 │ r2n4_1e        4      2  false \u001b[90m missing \u001b[0m\u001b[90m missing \u001b[0m   false  D8\n",
       "  32 │ r2n5_ff3       5      2  false \u001b[90m missing \u001b[0m\u001b[90m missing \u001b[0m    true  S5\n",
       "  33 │ r2n5_7b3       5      2  false \u001b[90m missing \u001b[0m\u001b[90m missing \u001b[0m   false  D8\n",
       "  34 │ r1n4_1         4      1   true \u001b[90m missing \u001b[0m\u001b[90m missing \u001b[0m    true  S3\n",
       "  35 │ r1n3_7         3      1   true \u001b[90m missing \u001b[0m\u001b[90m missing \u001b[0m    true  S3\n",
       "  36 │ r3n4_f         4      3   true \u001b[90m missing \u001b[0m\u001b[90m missing \u001b[0m\u001b[90m missing \u001b[0m S4\n",
       "\u001b[36m                                                            15 rows omitted\u001b[0m"
      ]
     },
     "execution_count": 4,
     "metadata": {},
     "output_type": "execute_result"
    }
   ],
   "source": [
    "path = \"../data/data_table.csv\"\n",
    "df = CSV.read(path,DataFrame)\n",
    "x = select(df,[:Name,:length,:rank, :Aut_B,:Aut_R,:Aut_F,:Aut_C,:describe])"
   ]
  },
  {
   "cell_type": "code",
   "execution_count": 7,
   "id": "c9513ccb-3d35-443f-bc34-d7aa80610f68",
   "metadata": {},
   "outputs": [
    {
     "name": "stdout",
     "output_type": "stream",
     "text": [
      "\u001b[1m36×8 DataFrame\u001b[0m\n",
      "\u001b[1m Row \u001b[0m│\u001b[1m Name     \u001b[0m\u001b[1m length \u001b[0m\u001b[1m rank  \u001b[0m\u001b[1m Aut_B \u001b[0m\u001b[1m Aut_R   \u001b[0m\u001b[1m Aut_F   \u001b[0m\u001b[1m Aut_C   \u001b[0m\u001b[1m describe \u001b[0m\n",
      "     │\u001b[90m String15 \u001b[0m\u001b[90m Int64  \u001b[0m\u001b[90m Int64 \u001b[0m\u001b[90m Bool  \u001b[0m\u001b[90m Bool?   \u001b[0m\u001b[90m Bool?   \u001b[0m\u001b[90m Bool?   \u001b[0m\u001b[90m String7? \u001b[0m\n",
      "─────┼─────────────────────────────────────────────────────────────────────\n",
      "   1 │ r2n5_1f3       5      2  false \u001b[90m missing \u001b[0m\u001b[90m missing \u001b[0m    true  D12\n",
      "   2 │ r1n2_1         2      1   true \u001b[90m missing \u001b[0m    true     true  1\n",
      "   3 │ r1n3_1         3      1   true \u001b[90m missing \u001b[0m\u001b[90m missing \u001b[0m    true  C2\n",
      "   4 │ r1n5_1         5      1  false \u001b[90m missing \u001b[0m\u001b[90m missing \u001b[0m   false  S4\n",
      "   5 │ r1n5_1f        5      1  false \u001b[90m missing \u001b[0m\u001b[90m missing \u001b[0m   false  S5\n",
      "   6 │ r2n4_1f        4      2  false \u001b[90m missing \u001b[0m\u001b[90m missing \u001b[0m    true  C2 x C2\n",
      "   7 │ r2n4_1         4      2  false \u001b[90m missing \u001b[0m\u001b[90m missing \u001b[0m   false  C2 x C2\n",
      "   8 │ r1n2_3         2      1   true     true     true     true  C2\n",
      "   9 │ r1n3_3         3      1   true \u001b[90m missing \u001b[0m\u001b[90m missing \u001b[0m    true  C2\n",
      "  10 │ r2n4_b         4      2   true \u001b[90m missing \u001b[0m\u001b[90m missing \u001b[0m    true  S3\n",
      "  11 │ r2n5_033       5      2  false \u001b[90m missing \u001b[0m\u001b[90m missing \u001b[0m   false  S4\n",
      "  12 │ r2n5_043       5      2  false \u001b[90m missing \u001b[0m\u001b[90m missing \u001b[0m   false  D12\n",
      "  13 │ r1n4_f         4      1  false \u001b[90m missing \u001b[0m\u001b[90m missing \u001b[0m   false  S4\n",
      "  14 │ r1n5_7         5      1  false \u001b[90m missing \u001b[0m\u001b[90m missing \u001b[0m   false  D12\n",
      "  15 │ r2n5_0d2       5      2  false \u001b[90m missing \u001b[0m\u001b[90m missing \u001b[0m   false  D8\n",
      "  16 │ r2n5_0d3       5      2  false \u001b[90m missing \u001b[0m\u001b[90m missing \u001b[0m    true  C2 x C2\n",
      "  17 │ r1n4_7         4      1   true \u001b[90m missing \u001b[0m\u001b[90m missing \u001b[0m    true  S3\n",
      "  18 │ r2n4_7         4      2   true \u001b[90m missing \u001b[0m\u001b[90m missing \u001b[0m    true  S3\n",
      "  19 │ r2n5_003       5      2  false \u001b[90m missing \u001b[0m\u001b[90m missing \u001b[0m   false  C2 x C2\n",
      "  20 │ r2n5_001       5      2  false \u001b[90m missing \u001b[0m\u001b[90m missing \u001b[0m   false  D12\n",
      "  21 │ r2n5_1f2       5      2  false \u001b[90m missing \u001b[0m\u001b[90m missing \u001b[0m   false  D12\n",
      "  22 │ r2n5_2d3       5      2  false \u001b[90m missing \u001b[0m\u001b[90m missing \u001b[0m    true  S4\n",
      "  23 │ r1n5_3         5      1  false \u001b[90m missing \u001b[0m\u001b[90m missing \u001b[0m   false  D12\n",
      "  24 │ r0n2_1         2      0   true     true     true     true \u001b[90m missing  \u001b[0m\n",
      "  25 │ r2n5_7f3       5      2  false \u001b[90m missing \u001b[0m\u001b[90m missing \u001b[0m    true  D12\n",
      "  26 │ r1n5_f         5      1  false \u001b[90m missing \u001b[0m\u001b[90m missing \u001b[0m   false  S4\n",
      "  27 │ r2n4_3         4      2   true \u001b[90m missing \u001b[0m\u001b[90m missing \u001b[0m    true  C2\n",
      "  28 │ r2n5_013       5      2   true \u001b[90m missing \u001b[0m\u001b[90m missing \u001b[0m    true  S3\n",
      "  29 │ r2n4_3f        4      2  false \u001b[90m missing \u001b[0m\u001b[90m missing \u001b[0m    true  S4\n",
      "  30 │ r1n4_3         4      1  false \u001b[90m missing \u001b[0m\u001b[90m missing \u001b[0m   false  C2 x C2\n",
      "  31 │ r2n4_1e        4      2  false \u001b[90m missing \u001b[0m\u001b[90m missing \u001b[0m   false  D8\n",
      "  32 │ r2n5_ff3       5      2  false \u001b[90m missing \u001b[0m\u001b[90m missing \u001b[0m    true  S5\n",
      "  33 │ r2n5_7b3       5      2  false \u001b[90m missing \u001b[0m\u001b[90m missing \u001b[0m   false  D8\n",
      "  34 │ r1n4_1         4      1   true \u001b[90m missing \u001b[0m\u001b[90m missing \u001b[0m    true  S3\n",
      "  35 │ r1n3_7         3      1   true \u001b[90m missing \u001b[0m\u001b[90m missing \u001b[0m    true  S3\n",
      "  36 │ r3n4_f         4      3   true \u001b[90m missing \u001b[0m\u001b[90m missing \u001b[0m\u001b[90m missing \u001b[0m S4"
     ]
    }
   ],
   "source": [
    "print(x)"
   ]
  },
  {
   "cell_type": "code",
   "execution_count": 48,
   "id": "d5948f48-6766-4db9-931b-83221e286098",
   "metadata": {},
   "outputs": [
    {
     "data": {
      "text/plain": [
       "28×7 Matrix{Bool}:\n",
       " 0  1  0  0  0  1  1\n",
       " 0  0  1  0  0  1  1\n",
       " 0  0  0  1  0  1  1\n",
       " 0  0  0  0  1  1  1\n",
       " 1  0  0  0  1  0  1\n",
       " 0  0  1  0  1  0  1\n",
       " 0  0  0  1  1  0  1\n",
       " 1  0  0  1  0  0  1\n",
       " 0  1  0  1  0  0  1\n",
       " 1  0  1  0  0  0  1\n",
       " 0  1  1  0  0  0  1\n",
       " 1  1  0  0  0  0  1\n",
       " 1  0  0  0  1  1  0\n",
       " ⋮              ⋮  \n",
       " 0  0  1  1  0  1  0\n",
       " 1  0  1  0  0  1  0\n",
       " 0  1  1  0  0  1  0\n",
       " 1  1  0  0  0  1  0\n",
       " 0  1  0  1  1  0  0\n",
       " 0  0  1  1  1  0  0\n",
       " 1  0  1  0  1  0  0\n",
       " 0  1  1  0  1  0  0\n",
       " 1  1  0  0  1  0  0\n",
       " 1  0  1  1  0  0  0\n",
       " 0  1  1  1  0  0  0\n",
       " 1  1  0  1  0  0  0"
      ]
     },
     "execution_count": 48,
     "metadata": {},
     "output_type": "execute_result"
    }
   ],
   "source": [
    "n = 4\n",
    "B = [[1,2],[1,3],[1,4],[2,3],[2,4]]\n",
    "M = fano_matroid()\n",
    "x = IncidenceMatrix(bases(M));\n",
    "collect(x)"
   ]
  },
  {
   "cell_type": "code",
   "execution_count": 49,
   "id": "b7cb06dd-2ac3-4e60-ae9d-947963d4db2f",
   "metadata": {},
   "outputs": [
    {
     "data": {
      "text/plain": [
       "pm::Matrix<long>\n",
       "12 4 4 4 4 4 4\n",
       "4 12 4 4 4 4 4\n",
       "4 4 12 4 4 4 4\n",
       "4 4 4 12 4 4 4\n",
       "4 4 4 4 12 4 4\n",
       "4 4 4 4 4 12 4\n",
       "4 4 4 4 4 4 12\n"
      ]
     },
     "execution_count": 49,
     "metadata": {},
     "output_type": "execute_result"
    }
   ],
   "source": [
    "transpose(x)*x"
   ]
  },
  {
   "cell_type": "code",
   "execution_count": 56,
   "id": "72485654-dd3b-46dc-89a3-1018ae415f3d",
   "metadata": {},
   "outputs": [
    {
     "data": {
      "text/plain": [
       "12-element Vector{Vector{Int64}}:\n",
       " [2, 6, 7]\n",
       " [3, 6, 7]\n",
       " [4, 6, 7]\n",
       " [5, 6, 7]\n",
       " [1, 5, 7]\n",
       " [3, 5, 7]\n",
       " [4, 5, 7]\n",
       " [1, 4, 7]\n",
       " [2, 4, 7]\n",
       " [1, 3, 7]\n",
       " [2, 3, 7]\n",
       " [1, 2, 7]"
      ]
     },
     "execution_count": 56,
     "metadata": {},
     "output_type": "execute_result"
    }
   ],
   "source": [
    "filter(x->7 in x,bases(M))"
   ]
  },
  {
   "cell_type": "code",
   "execution_count": 62,
   "id": "781d0b00-defb-45bf-b0fe-edb7846a8a6e",
   "metadata": {},
   "outputs": [
    {
     "data": {
      "text/plain": [
       "3×4 Matrix{Bool}:\n",
       " 0  1  1  0\n",
       " 0  1  0  1\n",
       " 0  0  1  1"
      ]
     },
     "execution_count": 62,
     "metadata": {},
     "output_type": "execute_result"
    }
   ],
   "source": [
    "cs=[[1],[2,3,4]]\n",
    "N = matroid_from_circuits(cs,4)\n",
    "y = IncidenceMatrix(bases(N))\n",
    "collect(y)"
   ]
  },
  {
   "cell_type": "code",
   "execution_count": 63,
   "id": "9343be49-714a-41d9-bd9d-04d7b4c0638f",
   "metadata": {},
   "outputs": [
    {
     "data": {
      "text/plain": [
       "pm::Matrix<long>\n",
       "0 0 0 0\n",
       "0 2 1 1\n",
       "0 1 2 1\n",
       "0 1 1 2\n"
      ]
     },
     "execution_count": 63,
     "metadata": {},
     "output_type": "execute_result"
    }
   ],
   "source": [
    "transpose(y)*y"
   ]
  },
  {
   "cell_type": "code",
   "execution_count": 82,
   "id": "0e5b62a4-fde0-4dbb-a6ad-5607d026f969",
   "metadata": {},
   "outputs": [
    {
     "data": {
      "text/plain": [
       "28×7 Matrix{Bool}:\n",
       " 1  1  0  1  0  0  0\n",
       " 1  1  0  0  1  0  0\n",
       " 1  1  0  0  0  1  0\n",
       " 1  1  0  0  0  0  1\n",
       " 1  0  1  1  0  0  0\n",
       " 1  0  1  0  1  0  0\n",
       " 1  0  1  0  0  1  0\n",
       " 1  0  1  0  0  0  1\n",
       " 1  0  0  1  0  1  0\n",
       " 1  0  0  1  0  0  1\n",
       " 1  0  0  0  1  1  0\n",
       " 1  0  0  0  1  0  1\n",
       " 0  1  1  1  0  0  0\n",
       " ⋮              ⋮  \n",
       " 0  1  0  1  1  0  0\n",
       " 0  1  0  1  0  0  1\n",
       " 0  1  0  0  1  1  0\n",
       " 0  1  0  0  0  1  1\n",
       " 0  0  1  1  1  0  0\n",
       " 0  0  1  1  0  1  0\n",
       " 0  0  1  0  1  0  1\n",
       " 0  0  1  0  0  1  1\n",
       " 0  0  0  1  1  1  0\n",
       " 0  0  0  1  1  0  1\n",
       " 0  0  0  1  0  1  1\n",
       " 0  0  0  0  1  1  1"
      ]
     },
     "execution_count": 82,
     "metadata": {},
     "output_type": "execute_result"
    }
   ],
   "source": [
    "M2 = fano_matroid()\n",
    "M2= principal_extension(M2,[],8)#\n",
    "x2 = IncidenceMatrix(bases(M2))\n",
    "collect(x2)"
   ]
  },
  {
   "cell_type": "code",
   "execution_count": 74,
   "id": "595719d5-ce46-435d-aa6a-da6899702db5",
   "metadata": {},
   "outputs": [
    {
     "data": {
      "text/plain": [
       "pm::Matrix<long>\n",
       "12 4 4 4 4 4 4\n",
       "4 12 4 4 4 4 4\n",
       "4 4 12 4 4 4 4\n",
       "4 4 4 12 4 4 4\n",
       "4 4 4 4 12 4 4\n",
       "4 4 4 4 4 12 4\n",
       "4 4 4 4 4 4 12\n"
      ]
     },
     "execution_count": 74,
     "metadata": {},
     "output_type": "execute_result"
    }
   ],
   "source": [
    "transpose(x2)*x2"
   ]
  },
  {
   "cell_type": "code",
   "execution_count": 83,
   "id": "bd320092-82f1-4764-8383-3696abfef259",
   "metadata": {},
   "outputs": [
    {
     "data": {
      "text/plain": [
       "3×3 Matrix{Bool}:\n",
       " 1  1  0\n",
       " 1  0  1\n",
       " 0  1  1"
      ]
     },
     "execution_count": 83,
     "metadata": {},
     "output_type": "execute_result"
    }
   ],
   "source": [
    "cs=[[4],[2,3,1]]\n",
    "N = matroid_from_circuits(cs,4)\n",
    "y = IncidenceMatrix(bases(N))\n",
    "collect(y)"
   ]
  },
  {
   "cell_type": "code",
   "execution_count": null,
   "id": "4e65dfcc-b89a-4f92-b71f-7fbd48128548",
   "metadata": {},
   "outputs": [],
   "source": []
  }
 ],
 "metadata": {
  "kernelspec": {
   "display_name": "Julia 1.9.1",
   "language": "julia",
   "name": "julia-1.9"
  },
  "language_info": {
   "file_extension": ".jl",
   "mimetype": "application/julia",
   "name": "julia",
   "version": "1.9.3"
  }
 },
 "nbformat": 4,
 "nbformat_minor": 5
}
