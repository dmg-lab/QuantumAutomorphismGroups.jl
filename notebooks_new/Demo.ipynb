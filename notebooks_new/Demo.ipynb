{
 "cells": [
  {
   "cell_type": "code",
   "execution_count": 1,
   "id": "549dc892-f712-4610-82a7-f4cada0ce507",
   "metadata": {},
   "outputs": [
    {
     "name": "stderr",
     "output_type": "stream",
     "text": [
      "\u001b[32m\u001b[1m  Activating\u001b[22m\u001b[39m project at `~/Documents/UniStuff/matroid+quantum+groups/QuantumAutomorphismGroups.jl`\n",
      "\u001b[32m\u001b[1mPrecompiling\u001b[22m\u001b[39m QuantumAutomorphismGroups\n",
      "\u001b[32m  ✓ \u001b[39m\u001b[90mWeakRefStrings\u001b[39m\n",
      "\u001b[32m  ✓ \u001b[39mCSV\n",
      "\u001b[32m  ✓ \u001b[39m\u001b[90mPrettyTables\u001b[39m\n",
      "\u001b[32m  ✓ \u001b[39mDataFrames\n",
      "\u001b[32m  ✓ \u001b[39mQuantumAutomorphismGroups\n",
      "\u001b[36m\u001b[1m        Info\u001b[22m\u001b[39m Given QuantumAutomorphismGroups was explicitly requested, output will be shown live \u001b[0K\n",
      "  5 dependencies successfully precompiled in 78 seconds. 130 already precompiled.\n"
     ]
    },
    {
     "name": "stdout",
     "output_type": "stream",
     "text": [
      "\r"
     ]
    }
   ],
   "source": [
    "using Pkg\n",
    "Pkg.activate(\"../\")\n",
    "#When running for the first time use:\n",
    "#Pkg.instantiate()\n",
    "using QuantumAutomorphismGroups\n",
    "using Oscar"
   ]
  },
  {
   "cell_type": "code",
   "execution_count": 61,
   "id": "c42d8f48-e26d-4f41-8712-37c777db3732",
   "metadata": {},
   "outputs": [
    {
     "data": {
      "text/plain": [
       "51-element Vector{AbstractAlgebra.Generic.FreeAssAlgElem{QQFieldElem}}:\n",
       " u[1,1]^2 - u[1,1]\n",
       " u[1,2]^2 - u[1,2]\n",
       " u[1,3]^2 - u[1,3]\n",
       " u[2,1]^2 - u[2,1]\n",
       " u[2,2]^2 - u[2,2]\n",
       " u[2,3]^2 - u[2,3]\n",
       " u[3,1]^2 - u[3,1]\n",
       " u[3,2]^2 - u[3,2]\n",
       " u[3,3]^2 - u[3,3]\n",
       " u[1,1] + u[1,2] + u[1,3] - 1\n",
       " u[2,1] + u[2,2] + u[2,3] - 1\n",
       " u[3,1] + u[3,2] + u[3,3] - 1\n",
       " u[1,1] + u[2,1] + u[3,1] - 1\n",
       " ⋮\n",
       " u[3,1]*u[3,2]\n",
       " u[1,3]*u[2,3]\n",
       " u[3,1]*u[3,3]\n",
       " u[1,3]*u[3,3]\n",
       " u[3,2]*u[3,1]\n",
       " u[2,3]*u[1,3]\n",
       " u[3,2]*u[3,3]\n",
       " u[2,3]*u[3,3]\n",
       " u[3,3]*u[3,1]\n",
       " u[3,3]*u[1,3]\n",
       " u[3,3]*u[3,2]\n",
       " u[3,3]*u[2,3]"
      ]
     },
     "execution_count": 61,
     "metadata": {},
     "output_type": "execute_result"
    }
   ],
   "source": [
    "#To get the Relations defining the Quantum Symmetric Group use\n",
    "generators, _, u, Alg = getQuantumPermutationGroup(3)\n",
    "generators"
   ]
  },
  {
   "cell_type": "code",
   "execution_count": 67,
   "id": "8e759fd1-41af-4d91-bce4-c49dabe8bf21",
   "metadata": {},
   "outputs": [
    {
     "data": {
      "text/plain": [
       "2040-element Vector{AbstractAlgebra.Generic.FreeAssAlgElem{QQFieldElem}}:\n",
       " u[1,1]^2 - u[1,1]\n",
       " u[1,2]^2 - u[1,2]\n",
       " u[1,3]^2 - u[1,3]\n",
       " u[1,4]^2 - u[1,4]\n",
       " u[2,1]^2 - u[2,1]\n",
       " u[2,2]^2 - u[2,2]\n",
       " u[2,3]^2 - u[2,3]\n",
       " u[2,4]^2 - u[2,4]\n",
       " u[3,1]^2 - u[3,1]\n",
       " u[3,2]^2 - u[3,2]\n",
       " u[3,3]^2 - u[3,3]\n",
       " u[3,4]^2 - u[3,4]\n",
       " u[4,1]^2 - u[4,1]\n",
       " ⋮\n",
       " u[4,1]*u[3,2]*u[2,1]\n",
       " u[1,4]*u[2,3]*u[1,2]\n",
       " u[4,1]*u[3,2]*u[2,2]\n",
       " u[1,4]*u[2,3]*u[2,2]\n",
       " u[4,2]*u[3,1]*u[2,2]\n",
       " u[2,4]*u[1,3]*u[2,2]\n",
       " u[4,2]*u[3,2]*u[2,1]\n",
       " u[2,4]*u[2,3]*u[1,2]\n",
       " u[4,2]*u[3,2]*u[2,2]\n",
       " u[2,4]*u[2,3]*u[2,2]\n",
       " u[4,1]*u[3,1]*u[2,1]\n",
       " u[1,4]*u[1,3]*u[1,2]"
      ]
     },
     "execution_count": 67,
     "metadata": {},
     "output_type": "execute_result"
    }
   ],
   "source": [
    "#To get the Relations defining Aut_B(M) use\n",
    "M = uniform_matroid(3,4)\n",
    "generators,_ ,u, Alg = getMatroidRelations(M,:bases) #Switch :bases with :circuits, :rank, :flats to get the other Aut_*(M)\n",
    "generators"
   ]
  },
  {
   "cell_type": "code",
   "execution_count": 14,
   "id": "99264dc4-1542-4556-8989-73ffeaa1ef88",
   "metadata": {},
   "outputs": [
    {
     "data": {
      "text/plain": [
       "2074-element Vector{AbstractAlgebra.Generic.FreeAssAlgElem{QQFieldElem}}:\n",
       " u[1,1]^2 - u[1,1]\n",
       " u[1,2]^2 - u[1,2]\n",
       " u[1,3]^2 - u[1,3]\n",
       " u[1,4]^2 - u[1,4]\n",
       " u[2,1]^2 - u[2,1]\n",
       " u[2,2]^2 - u[2,2]\n",
       " u[2,3]^2 - u[2,3]\n",
       " u[2,4]^2 - u[2,4]\n",
       " u[3,1]^2 - u[3,1]\n",
       " u[3,2]^2 - u[3,2]\n",
       " u[3,3]^2 - u[3,3]\n",
       " u[3,4]^2 - u[3,4]\n",
       " u[4,1]^2 - u[4,1]\n",
       " ⋮\n",
       " -u[4,3]*u[3,4]*u[2,2] - u[4,4]*u[3,3]*u[2,2] + u[3,3]*u[2,2] + u[3,4]*u[2,2] + u[4,3]*u[2,2] + u[4,4]*u[2,2] - u[2,2]\n",
       " -u[4,2]*u[2,4]*u[4,2] + u[4,2]*u[2,4]\n",
       " u[2,2]*u[4,4] + u[2,3]*u[4,4] - u[4,4]*u[2,2] - u[4,4]*u[2,3]\n",
       " -u[2,3]*u[4,2] - u[2,4]*u[4,2] - u[4,3]*u[2,2] - u[4,3]*u[2,4] - u[4,4]*u[2,2] - u[4,4]*u[2,3] + u[2,2] + u[2,3] + u[2,4] + u[4,2] + u[4,3] + u[4,4] - 1\n",
       " u[3,4]*u[4,3] - u[4,3]*u[3,4]\n",
       " u[3,4]*u[4,2] - u[4,2]*u[3,4]\n",
       " -u[3,2]*u[2,4] - u[3,3]*u[2,4] - u[3,4]*u[2,2] - u[3,4]*u[2,3] - u[4,2]*u[2,4] - u[4,2]*u[3,4] - u[4,3]*u[2,4] - u[4,3]*u[3,4] - u[4,4]*u[2,2] - u[4,4]*u[2,3] - u[4,4]*u[3,2] - u[4,4]*u[3,3] + u[2,2] + u[2,3] + 2*u[2,4] + u[3,2] + u[3,3] + 2*u[3,4] + u[4,2] + u[4,3] + 2*u[4,4] - 2\n",
       " u[3,3]*u[4,4] - u[4,4]*u[3,3]\n",
       " -u[3,3]*u[2,4] - u[3,4]*u[2,3] - u[4,3]*u[2,4] - u[4,3]*u[3,4] - u[4,4]*u[2,3] - u[4,4]*u[3,3] + u[2,3] + u[2,4] + u[3,3] + u[3,4] + u[4,3] + u[4,4] - 1\n",
       " u[2,4]*u[4,3] - u[4,3]*u[2,4]\n",
       " u[2,4]*u[4,2] - u[4,2]*u[2,4]\n",
       " u[2,3]*u[4,4] - u[4,4]*u[2,3]"
      ]
     },
     "execution_count": 14,
     "metadata": {},
     "output_type": "execute_result"
    }
   ],
   "source": [
    "#Before checking if this Ideal defines a quantum group with symmetries, we need a nc-groebner_basis:\n",
    "gb = groebner_basis(generators)"
   ]
  },
  {
   "cell_type": "code",
   "execution_count": 79,
   "id": "8ccf91cd-e05d-429d-94de-ad448c99e60d",
   "metadata": {},
   "outputs": [
    {
     "data": {
      "text/plain": [
       "false"
      ]
     },
     "execution_count": 79,
     "metadata": {},
     "output_type": "execute_result"
    }
   ],
   "source": [
    "#Now we can check if the ideal generated by the nc-gb contains a commutator\n",
    "ideal_membership(u[1,2]*u[4,3]-u[4,3]*u[1,2],gb)"
   ]
  },
  {
   "cell_type": "markdown",
   "id": "5ef89a64-8b33-4d80-8516-a4e0a5670557",
   "metadata": {},
   "source": [
    "# Timings\n",
    "\n",
    "This is a demo to show the difference in speed between the two algorithms used to compute the Groebner basis. \n",
    "\n",
    " - If no `deg_bound` is given as an argument, the algorithm implemented in Oscar is used. This may not terminate.\n",
    " - If a `deg_bound` is given as an argument, the computations are done in the singular. This is much faster for non-trivial examples and guarantees termination. But it will only return a truncated Groebner basis. This may or may not be the full Groebner basis."
   ]
  },
  {
   "cell_type": "code",
   "execution_count": 19,
   "id": "0af285b9-27f8-4bf6-a363-87514cd9f889",
   "metadata": {},
   "outputs": [
    {
     "data": {
      "text/plain": [
       "Matroid of rank 2 on 6 elements"
      ]
     },
     "execution_count": 19,
     "metadata": {},
     "output_type": "execute_result"
    }
   ],
   "source": [
    "H1 = matroid_from_bases([[2, 3], [2, 4], [3, 4], [2, 5], [3, 5], [4, 5], [2, 6], [3, 6], [4, 6], [5, 6]],6)"
   ]
  },
  {
   "cell_type": "code",
   "execution_count": 80,
   "id": "6de3d723-5a37-4612-9005-23fec3870319",
   "metadata": {},
   "outputs": [
    {
     "data": {
      "text/plain": [
       "2040"
      ]
     },
     "execution_count": 80,
     "metadata": {},
     "output_type": "execute_result"
    }
   ],
   "source": [
    "generators, _, _ = getMatroidRelations(M,:bases);\n",
    "length(generators)"
   ]
  },
  {
   "cell_type": "code",
   "execution_count": 81,
   "id": "a09c4c0d-ad1f-4a8f-8c28-d55ab4142264",
   "metadata": {},
   "outputs": [
    {
     "name": "stdout",
     "output_type": "stream",
     "text": [
      " 10.536442 seconds (70.51 M allocations: 5.059 GiB, 25.86% gc time)\n"
     ]
    }
   ],
   "source": [
    "# The Version implemented in Abstract Algebra without a degree bound\n",
    "@time gb1 = groebner_basis(generators);"
   ]
  },
  {
   "cell_type": "code",
   "execution_count": 82,
   "id": "e3325107-eca6-4e30-9553-7e3ac8f72fd9",
   "metadata": {},
   "outputs": [
    {
     "data": {
      "text/plain": [
       "3"
      ]
     },
     "execution_count": 82,
     "metadata": {},
     "output_type": "execute_result"
    }
   ],
   "source": [
    "#Finding the maximum degree is a bit tedious, but it will give a good degree bound for the alternative way of computing a Groebner basis\n",
    "reduce(max, map(x -> reduce(max, length.(x.exps)), gb1))"
   ]
  },
  {
   "cell_type": "code",
   "execution_count": 83,
   "id": "3be06462-8d7a-4c53-b580-0befaa272bba",
   "metadata": {},
   "outputs": [],
   "source": [
    "# We will recompute the generators since Oscar night cache the resulting Groebner basis from before.\n",
    "generators, _, _ = getMatroidRelations(M,:bases);"
   ]
  },
  {
   "cell_type": "code",
   "execution_count": 84,
   "id": "e22a7f90-5edc-4dbf-9a77-4d4db57dd109",
   "metadata": {},
   "outputs": [
    {
     "name": "stdout",
     "output_type": "stream",
     "text": [
      "  0.579798 seconds (3.65 M allocations: 236.698 MiB)\n"
     ]
    }
   ],
   "source": [
    "@time groebner_basis(generators,4);"
   ]
  },
  {
   "cell_type": "code",
   "execution_count": null,
   "id": "c0ed44d3-0243-4e53-98b8-c8a65e9a9c02",
   "metadata": {},
   "outputs": [],
   "source": [
    " "
   ]
  }
 ],
 "metadata": {
  "kernelspec": {
   "display_name": "Julia 1.9.1",
   "language": "julia",
   "name": "julia-1.9"
  },
  "language_info": {
   "file_extension": ".jl",
   "mimetype": "application/julia",
   "name": "julia",
   "version": "1.10.2"
  }
 },
 "nbformat": 4,
 "nbformat_minor": 5
}
