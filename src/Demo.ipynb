{
 "cells": [
  {
   "cell_type": "code",
   "execution_count": 2,
   "id": "bd84c638-1922-4e84-a812-d91cd66b61dd",
   "metadata": {},
   "outputs": [],
   "source": [
    "Pkg.activate(\"..\")"
   ]
  },
  {
   "cell_type": "code",
   "execution_count": 3,
   "id": "549dc892-f712-4610-82a7-f4cada0ce507",
   "metadata": {},
   "outputs": [
    {
     "name": "stdout",
     "output_type": "stream",
     "text": [
      " -----    -----    -----      -      -----   \n",
      "|     |  |     |  |     |    | |    |     |  \n",
      "|     |  |        |         |   |   |     |  \n",
      "|     |   -----   |        |     |  |-----   \n",
      "|     |        |  |        |-----|  |   |    \n",
      "|     |  |     |  |     |  |     |  |    |   \n",
      " -----    -----    -----   -     -  -     -  \n",
      "\n",
      "...combining (and extending) ANTIC, GAP, Polymake and Singular\n",
      "Version\u001b[32m 0.13.0-DEV \u001b[39m... \n",
      " ... which comes with absolutely no warranty whatsoever\n",
      "Type: '?Oscar' for more information\n",
      "(c) 2019-2023 by The OSCAR Development Team\n"
     ]
    },
    {
     "data": {
      "text/plain": [
       "getRelations2 (generic function with 2 methods)"
      ]
     },
     "execution_count": 3,
     "metadata": {},
     "output_type": "execute_result"
    }
   ],
   "source": [
    "using Oscar\n",
    "include(\"./matroid_relations.jl\")\n",
    "include(\"./utils.jl\")\n",
    "include(\"./multiSetMatroid.jl\")\n",
    "include(\"./quantumMatroid.jl\")"
   ]
  },
  {
   "cell_type": "code",
   "execution_count": 24,
   "id": "c42d8f48-e26d-4f41-8712-37c777db3732",
   "metadata": {},
   "outputs": [
    {
     "data": {
      "text/plain": [
       "50-element Vector{FreeAssAlgElem{QQFieldElem}}:\n",
       " u[1,1]^2 - u[1,1]\n",
       " u[1,1]*u[1,2]\n",
       " u[1,1]*u[2,1]\n",
       " u[1,1]*u[1,3]\n",
       " u[1,1]*u[3,1]\n",
       " u[1,2]^2 - u[1,2]\n",
       " u[1,2]*u[1,1]\n",
       " u[2,1]*u[1,1]\n",
       " u[1,2]*u[1,3]\n",
       " u[2,1]*u[3,1]\n",
       " u[1,3]^2 - u[1,3]\n",
       " u[1,3]*u[1,1]\n",
       " u[3,1]*u[1,1]\n",
       " ⋮\n",
       " u[3,2]*u[3,3]\n",
       " u[2,3]*u[3,3]\n",
       " u[3,3]^2 - u[3,3]\n",
       " u[3,3]*u[3,1]\n",
       " u[3,3]*u[1,3]\n",
       " u[3,3]*u[3,2]\n",
       " u[3,3]*u[2,3]\n",
       " u[1,1] + u[1,2] + u[1,3] - 1\n",
       " -u[1,2] - u[1,3] + u[2,1] + u[3,1]\n",
       " u[2,1] + u[2,2] + u[2,3] - 1\n",
       " -u[1,3] - u[2,3] + u[3,1] + u[3,2]\n",
       " u[3,1] + u[3,2] + u[3,3] - 1"
      ]
     },
     "execution_count": 24,
     "metadata": {},
     "output_type": "execute_result"
    }
   ],
   "source": [
    "mat = uniform_matroid(2,3)\n",
    "Alg, Ideal, gens , aut = getIdeal(mat); #creates bases version auf Aut+(M)\n",
    "gens"
   ]
  },
  {
   "cell_type": "code",
   "execution_count": 28,
   "id": "8e759fd1-41af-4d91-bce4-c49dabe8bf21",
   "metadata": {},
   "outputs": [
    {
     "data": {
      "text/plain": [
       "56-element Vector{FreeAssAlgElem{QQFieldElem}}:\n",
       " u[1,1]^2 - u[1,1]\n",
       " u[1,1]*u[1,2]\n",
       " u[1,1]*u[2,1]\n",
       " u[1,1]*u[1,3]\n",
       " u[1,1]*u[3,1]\n",
       " u[1,2]^2 - u[1,2]\n",
       " u[1,2]*u[1,1]\n",
       " u[2,1]*u[1,1]\n",
       " u[1,2]*u[1,3]\n",
       " u[2,1]*u[3,1]\n",
       " u[1,3]^2 - u[1,3]\n",
       " u[1,3]*u[1,1]\n",
       " u[3,1]*u[1,1]\n",
       " ⋮\n",
       " u[3,3]*u[2,3]\n",
       " u[1,1] + u[1,2] + u[1,3] - 1\n",
       " -u[1,2] - u[1,3] + u[2,1] + u[3,1]\n",
       " u[2,1] + u[2,2] + u[2,3] - 1\n",
       " -u[1,3] - u[2,3] + u[3,1] + u[3,2]\n",
       " u[3,1] + u[3,2] + u[3,3] - 1\n",
       " -u[3,3]*u[2,2]*u[3,3] + u[3,3]*u[2,2]\n",
       " -u[3,2]*u[2,3]*u[3,2] + u[3,2]*u[2,3]\n",
       " -u[2,3]*u[3,2]*u[2,3] + u[2,3]*u[3,2]\n",
       " -u[2,2]*u[3,3] + u[3,3]*u[2,2]\n",
       " u[2,3]*u[3,2] - u[3,2]*u[2,3]\n",
       " -u[3,2]*u[2,3] - u[3,3]*u[2,2] + u[2,2] + u[2,3] + u[3,2] + u[3,3] - 1"
      ]
     },
     "execution_count": 28,
     "metadata": {},
     "output_type": "execute_result"
    }
   ],
   "source": [
    "_, Ideal_C, gens_C , aut_C = getIdeal(mat,:circuits); #creates circuits version auf Aut+(M)\n",
    "gens_C"
   ]
  },
  {
   "cell_type": "code",
   "execution_count": 29,
   "id": "8ccf91cd-e05d-429d-94de-ad448c99e60d",
   "metadata": {},
   "outputs": [
    {
     "data": {
      "text/plain": [
       "true"
      ]
     },
     "execution_count": 29,
     "metadata": {},
     "output_type": "execute_result"
    }
   ],
   "source": [
    "#Check if both of them are the same Ideal\n",
    "generateSameIdeal(Ideal,Ideal_C,4)"
   ]
  },
  {
   "cell_type": "code",
   "execution_count": 31,
   "id": "b3a0c0c6-7e24-42fc-9d5d-a68ab1961880",
   "metadata": {},
   "outputs": [
    {
     "data": {
      "text/plain": [
       "true"
      ]
     },
     "execution_count": 31,
     "metadata": {},
     "output_type": "execute_result"
    }
   ],
   "source": [
    "#Check if a the quantumgroup defined by an ideal would be commutative\n",
    "isCommutative(Alg,Ideal,4)"
   ]
  },
  {
   "cell_type": "markdown",
   "id": "709738c9-c95a-4bbe-b830-b22191f96380",
   "metadata": {},
   "source": [
    "# Uniform $r=3$ and $n=4$"
   ]
  },
  {
   "cell_type": "code",
   "execution_count": 6,
   "id": "b2835c6e-9e44-4f9a-9b27-644dc464a4b8",
   "metadata": {},
   "outputs": [
    {
     "data": {
      "text/plain": [
       "262-element Vector{FreeAssAlgElem{QQFieldElem}}:\n",
       " u[1,1]^2 - u[1,1]\n",
       " u[1,1]*u[1,2]\n",
       " u[1,1]*u[2,1]\n",
       " u[1,1]*u[1,3]\n",
       " u[1,1]*u[3,1]\n",
       " u[1,1]*u[1,4]\n",
       " u[1,1]*u[4,1]\n",
       " u[1,2]^2 - u[1,2]\n",
       " u[1,2]*u[1,1]\n",
       " u[2,1]*u[1,1]\n",
       " u[1,2]*u[1,3]\n",
       " u[2,1]*u[3,1]\n",
       " u[1,2]*u[1,4]\n",
       " ⋮\n",
       " u[2,4]*u[4,2] - u[3,3]*u[2,4] + u[3,3]*u[4,2] - u[3,4]*u[2,3] - u[4,2]*u[2,4] + u[4,2]*u[3,4] - u[4,3]*u[2,4] + u[4,3]*u[3,2] - u[4,4]*u[2,3] + u[4,4]*u[3,2] + u[2,3] + u[2,4] - u[3,2] - u[4,2]\n",
       " -2*u[3,3]*u[2,4] + 2*u[3,3]*u[4,2] - 2*u[3,4]*u[2,3] + u[3,4]*u[4,3] + 2*u[4,2]*u[3,4] - 2*u[4,3]*u[2,4] + 2*u[4,3]*u[3,2] - u[4,3]*u[3,4] - 2*u[4,4]*u[2,3] + 2*u[4,4]*u[3,2] + 2*u[2,3] + 2*u[2,4] - 2*u[3,2] - 2*u[4,2]\n",
       " u[2,2]*u[4,3] - u[4,3]*u[2,2]\n",
       " -u[3,3]*u[4,2] + u[4,2]*u[3,3]\n",
       " u[4,4]*u[3,2]*u[2,3] + u[4,4]*u[3,2]*u[2,4] + u[4,4]*u[3,3]*u[2,2] + u[2,2]*u[3,3] + 2*u[3,2]*u[2,3] + u[3,2]*u[2,4] + u[3,3]*u[2,2] + u[3,4]*u[2,2] + u[3,4]*u[4,3] + u[4,2]*u[2,3] + 2*u[4,2]*u[3,3] + u[4,2]*u[3,4] + u[4,3]*u[2,2] - u[4,3]*u[2,4] + 2*u[4,3]*u[3,2] - u[4,3]*u[3,4] - u[4,4]*u[2,2] - 2*u[4,4]*u[2,3] - u[4,4]*u[3,3] - 2*u[2,2] - u[2,3] - 3*u[3,2] - 2*u[3,3] - u[3,4] - 2*u[4,2] - u[4,3] + u[4,4] + 2\n",
       " -u[2,3]*u[3,2] + u[3,2]*u[2,3] + u[3,4]*u[4,3] - u[4,3]*u[3,4]\n",
       " 2*u[2,2]*u[3,3] + u[3,2]*u[2,3] - u[3,3]*u[2,2] + 3//2*u[3,4]*u[4,3] - u[4,2]*u[2,4] + u[4,2]*u[3,3] - u[4,3]*u[2,4] + u[4,3]*u[3,2] - 3//2*u[4,3]*u[3,4] - u[4,4]*u[2,2] - u[4,4]*u[2,3] + u[2,4] - u[3,2] - u[3,3] + u[4,4]\n",
       " -1//2*u[3,4]*u[4,3] + 1//2*u[4,3]*u[3,4]\n",
       " -u[3,2]*u[2,3] - u[3,2]*u[2,4] - u[3,3]*u[2,2] - u[3,4]*u[2,2] - u[4,2]*u[3,3] - u[4,2]*u[3,4] + u[4,3]*u[2,4] - u[4,3]*u[3,2] + u[4,4]*u[2,3] - u[4,4]*u[3,2] + u[2,2] + 2*u[3,2] + u[3,3] + u[3,4] + u[4,2] - 1\n",
       " 1//2*u[3,2]*u[2,4] + 1//2*u[3,4]*u[2,2] - u[4,2]*u[2,3] - 1//2*u[4,2]*u[2,4] + 1//2*u[4,2]*u[3,4] - u[4,3]*u[2,2] - u[4,3]*u[2,4] - 1//2*u[4,4]*u[2,2] - u[4,4]*u[2,3] + 1//2*u[4,4]*u[3,2] + 1//2*u[2,2] + u[2,3] + 1//2*u[2,4] - 1//2*u[3,2] - 1//2*u[3,4] + 1//2*u[4,2] + u[4,3] + 1//2*u[4,4] - 1//2\n",
       " -u[4,2]*u[2,3] - u[4,2]*u[2,4] - u[4,3]*u[2,2] - u[4,3]*u[2,4] - u[4,4]*u[2,2] - u[4,4]*u[2,3] + u[2,2] + u[2,3] + u[2,4] + u[4,2] + u[4,3] + u[4,4] - 1\n",
       " -u[4,2]*u[3,3] - u[4,2]*u[3,4] - u[4,3]*u[3,2] - u[4,3]*u[3,4] - u[4,4]*u[3,2] - u[4,4]*u[3,3] + u[3,2] + u[3,3] + u[3,4] + u[4,2] + u[4,3] + u[4,4] - 1"
      ]
     },
     "execution_count": 6,
     "metadata": {},
     "output_type": "execute_result"
    }
   ],
   "source": [
    "mat_3 = uniform_matroid(3,4)\n",
    "Alg_3, Ideal_3, gens_3 , aut_3 = getIdeal(mat_3);\n",
    "gens_3"
   ]
  },
  {
   "cell_type": "code",
   "execution_count": 8,
   "id": "bf32d92a-2f3f-4c6c-beaa-1be21fba9766",
   "metadata": {},
   "outputs": [
    {
     "name": "stdout",
     "output_type": "stream",
     "text": [
      "i = 5000, percent = 44.52 %\n",
      "i = 10000, percent = 89.03 %\n"
     ]
    },
    {
     "data": {
      "text/plain": [
       "329-element Vector{FreeAssAlgElem{QQFieldElem}}:\n",
       " u[1,1]^2 - u[1,1]\n",
       " u[1,1]*u[1,2]\n",
       " u[1,1]*u[2,1]\n",
       " u[1,1]*u[1,3]\n",
       " u[1,1]*u[3,1]\n",
       " u[1,1]*u[1,4]\n",
       " u[1,1]*u[4,1]\n",
       " u[1,2]^2 - u[1,2]\n",
       " u[1,2]*u[1,1]\n",
       " u[2,1]*u[1,1]\n",
       " u[1,2]*u[1,3]\n",
       " u[2,1]*u[3,1]\n",
       " u[1,2]*u[1,4]\n",
       " ⋮\n",
       " -u[2,2]*u[4,3] - u[2,2]*u[4,4] - u[3,2]*u[2,3] - u[3,3]*u[2,2] - u[4,2]*u[2,3] + u[4,2]*u[3,4] + u[4,3]*u[3,4] + u[4,4]*u[2,2] + u[4,4]*u[3,2] + u[4,4]*u[3,3] + u[2,2] + u[2,3] - u[3,4] - u[4,4]\n",
       " -u[2,2]*u[4,4]*u[2,2] + u[2,2]*u[4,4]\n",
       " -u[2,2]*u[4,4] + u[4,4]*u[2,2]\n",
       " u[4,2]*u[2,4]*u[4,2] - u[2,4]*u[4,2]\n",
       " u[2,4]*u[4,2]*u[2,4] - u[4,2]*u[2,4]\n",
       " -u[2,4]*u[4,2] + u[4,2]*u[2,4]\n",
       " -u[3,2]*u[2,3] - u[3,2]*u[2,4] - u[3,3]*u[2,2] - u[3,3]*u[2,4] - u[3,4]*u[2,2] - u[3,4]*u[2,3] + u[4,2]*u[3,3] + u[4,2]*u[3,4] + u[4,3]*u[3,2] + u[4,3]*u[3,4] + u[4,4]*u[3,2] + u[4,4]*u[3,3] + u[2,2] + u[2,3] + u[2,4] - u[4,2] - u[4,3] - u[4,4]\n",
       " u[2,4]*u[3,2] - u[3,2]*u[2,4]\n",
       " u[2,4]*u[4,3] - u[4,3]*u[2,4]\n",
       " u[3,2]*u[2,4] + u[3,3]*u[2,4] + u[3,4]*u[2,2] + u[3,4]*u[2,3] - u[4,2]*u[2,3] - u[4,2]*u[3,3] - u[4,3]*u[2,2] - u[4,3]*u[3,2] - u[2,4] - u[3,4] + u[4,2] + u[4,3]\n",
       " u[3,3]*u[2,4] + u[3,4]*u[2,3] - u[4,2]*u[2,3] - u[4,2]*u[2,4] - u[4,3]*u[2,2] + u[4,3]*u[3,4] - u[4,4]*u[2,2] + u[4,4]*u[3,3] + u[2,2] - u[3,3] - u[3,4] + u[4,2]\n",
       " -u[4,2]*u[2,3] - u[4,2]*u[2,4] + u[4,2]*u[3,3] + u[4,2]*u[3,4] - u[4,3]*u[2,2] - u[4,3]*u[2,4] + u[4,3]*u[3,2] + u[4,3]*u[3,4] - u[4,4]*u[2,2] - u[4,4]*u[2,3] + u[4,4]*u[3,2] + u[4,4]*u[3,3] + u[2,2] + u[2,3] + u[2,4] - u[3,2] - u[3,3] - u[3,4]"
      ]
     },
     "execution_count": 8,
     "metadata": {},
     "output_type": "execute_result"
    }
   ],
   "source": [
    "Alg_3_C, Ideal_3_C, gens_3_C , aut_3_C = getIdeal(mat_3,:circuits);\n",
    "gens_3_C"
   ]
  },
  {
   "cell_type": "markdown",
   "id": "ca3319bc-ab93-4b35-be6c-6f5d0a69a184",
   "metadata": {},
   "source": [
    "Fano sadly doesn't work in the notebook....."
   ]
  },
  {
   "cell_type": "code",
   "execution_count": null,
   "id": "d8f71495-5513-439b-843c-7ed57f6fdaa7",
   "metadata": {},
   "outputs": [],
   "source": []
  }
 ],
 "metadata": {
  "kernelspec": {
   "display_name": "Julia 1.9.2",
   "language": "julia",
   "name": "julia-1.9"
  },
  "language_info": {
   "file_extension": ".jl",
   "mimetype": "application/julia",
   "name": "julia",
   "version": "1.9.2"
  }
 },
 "nbformat": 4,
 "nbformat_minor": 5
}
