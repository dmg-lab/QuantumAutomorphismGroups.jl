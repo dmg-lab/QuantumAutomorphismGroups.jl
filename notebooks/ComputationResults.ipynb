{
 "cells": [
  {
   "cell_type": "code",
   "execution_count": 5,
   "id": "6a407442-0f84-4f2d-ad83-38924f068430",
   "metadata": {},
   "outputs": [
    {
     "name": "stdout",
     "output_type": "stream",
     "text": [
      " -----    -----    -----      -      -----   \n",
      "|     |  |     |  |     |    | |    |     |  \n",
      "|     |  |        |         |   |   |     |  \n",
      "|     |   -----   |        |     |  |-----   \n",
      "|     |        |  |        |-----|  |   |    \n",
      "|     |  |     |  |     |  |     |  |    |   \n",
      " -----    -----    -----   -     -  -     -  \n",
      "\n",
      "...combining (and extending) ANTIC, GAP, Polymake and Singular\n",
      "Version\u001b[32m 0.13.1-DEV \u001b[39m... \n",
      " ... which comes with absolutely no warranty whatsoever\n",
      "Type: '?Oscar' for more information\n",
      "(c) 2019-2023 by The OSCAR Development Team\n"
     ]
    }
   ],
   "source": [
    "using Pkg\n",
    "Pkg.activate(\"../\")\n",
    "#When running the first time use:\n",
    "#Pkg.instantiate()\n",
    "include(\"../src/QuantumAutomorphismGroups.jl\");"
   ]
  },
  {
   "cell_type": "markdown",
   "id": "4347fde0-490a-49dc-8be5-abc0d5fd2df7",
   "metadata": {},
   "source": [
    "The file data_table.csv contains all the calculation results.\n",
    "\n",
    "In the dataframe `true` means that the quantum group is commutative.\n",
    "\n",
    "The matroid names are the REVLEX encoding, as a hexadecimal number."
   ]
  },
  {
   "cell_type": "code",
   "execution_count": 6,
   "id": "4c95704d-d7e2-4052-a885-308c539e1e57",
   "metadata": {},
   "outputs": [
    {
     "name": "stdout",
     "output_type": "stream",
     "text": [
      "\u001b[1m106×8 DataFrame\u001b[0m\n",
      "\u001b[1m Row \u001b[0m│\u001b[1m Name       \u001b[0m\u001b[1m length \u001b[0m\u001b[1m rank  \u001b[0m\u001b[1m Aut_B \u001b[0m\u001b[1m Aut_R   \u001b[0m\u001b[1m Aut_F   \u001b[0m\u001b[1m Aut_C   \u001b[0m\u001b[1m describe       \u001b[0m\n",
      "     │\u001b[90m String15   \u001b[0m\u001b[90m Int64  \u001b[0m\u001b[90m Int64 \u001b[0m\u001b[90m Bool  \u001b[0m\u001b[90m Bool?   \u001b[0m\u001b[90m Bool?   \u001b[0m\u001b[90m Bool?   \u001b[0m\u001b[90m String15?      \u001b[0m\n",
      "─────┼─────────────────────────────────────────────────────────────────────────────\n",
      "   1 │ r0n2_1           2      0   true     true     true     true \u001b[90m missing        \u001b[0m\n",
      "   2 │ r1n2_1           2      1   true \u001b[90m missing \u001b[0m    true     true  1\n",
      "   3 │ r1n2_3           2      1   true     true     true     true  C2\n",
      "   4 │ r1n3_1           3      1   true \u001b[90m missing \u001b[0m\u001b[90m missing \u001b[0m    true  C2\n",
      "   5 │ r1n3_3           3      1   true \u001b[90m missing \u001b[0m\u001b[90m missing \u001b[0m    true  C2\n",
      "   6 │ r1n3_7           3      1   true \u001b[90m missing \u001b[0m\u001b[90m missing \u001b[0m    true  S3\n",
      "   7 │ r1n4_f           4      1  false \u001b[90m missing \u001b[0m\u001b[90m missing \u001b[0m   false  S4\n",
      "   8 │ r1n4_7           4      1   true \u001b[90m missing \u001b[0m\u001b[90m missing \u001b[0m    true  S3\n",
      "   9 │ r1n4_3           4      1  false \u001b[90m missing \u001b[0m\u001b[90m missing \u001b[0m   false  C2 x C2\n",
      "  10 │ r1n4_1           4      1   true \u001b[90m missing \u001b[0m\u001b[90m missing \u001b[0m    true  S3\n",
      "  11 │ r2n4_1f          4      2  false \u001b[90m missing \u001b[0m\u001b[90m missing \u001b[0m    true  C2 x C2\n",
      "  12 │ r2n4_1           4      2  false \u001b[90m missing \u001b[0m\u001b[90m missing \u001b[0m   false  C2 x C2\n",
      "  13 │ r2n4_b           4      2   true \u001b[90m missing \u001b[0m\u001b[90m missing \u001b[0m    true  S3\n",
      "  14 │ r2n4_7           4      2   true \u001b[90m missing \u001b[0m\u001b[90m missing \u001b[0m    true  S3\n",
      "  15 │ r2n4_3           4      2   true \u001b[90m missing \u001b[0m\u001b[90m missing \u001b[0m    true  C2\n",
      "  16 │ r2n4_3f          4      2  false \u001b[90m missing \u001b[0m\u001b[90m missing \u001b[0m    true  S4\n",
      "  17 │ r2n4_1e          4      2  false \u001b[90m missing \u001b[0m\u001b[90m missing \u001b[0m   false  D8\n",
      "  18 │ r3n4_f           4      3   true \u001b[90m missing \u001b[0m\u001b[90m missing \u001b[0m\u001b[90m missing \u001b[0m S4\n",
      "  19 │ r3n4_c           4      3   true \u001b[90m missing \u001b[0m\u001b[90m missing \u001b[0m   false  C2 x C2\n",
      "  20 │ r3n4_e           4      3   true \u001b[90m missing \u001b[0m\u001b[90m missing \u001b[0m    true  S3\n",
      "  21 │ r1n5_1           5      1  false \u001b[90m missing \u001b[0m\u001b[90m missing \u001b[0m   false  S4\n",
      "  22 │ r1n5_1f          5      1  false \u001b[90m missing \u001b[0m\u001b[90m missing \u001b[0m   false  S5\n",
      "  23 │ r1n5_7           5      1  false \u001b[90m missing \u001b[0m\u001b[90m missing \u001b[0m   false  D12\n",
      "  24 │ r1n5_3           5      1  false \u001b[90m missing \u001b[0m\u001b[90m missing \u001b[0m   false  D12\n",
      "  25 │ r1n5_f           5      1  false \u001b[90m missing \u001b[0m\u001b[90m missing \u001b[0m   false  S4\n",
      "  26 │ r2n5_1f3         5      2  false \u001b[90m missing \u001b[0m\u001b[90m missing \u001b[0m    true  D12\n",
      "  27 │ r2n5_033         5      2  false \u001b[90m missing \u001b[0m\u001b[90m missing \u001b[0m   false  S4\n",
      "  28 │ r2n5_043         5      2  false \u001b[90m missing \u001b[0m\u001b[90m missing \u001b[0m   false  D12\n",
      "  29 │ r2n5_0d2         5      2  false \u001b[90m missing \u001b[0m\u001b[90m missing \u001b[0m   false  D8\n",
      "  30 │ r2n5_0d3         5      2  false \u001b[90m missing \u001b[0m\u001b[90m missing \u001b[0m    true  C2 x C2\n",
      "  31 │ r2n5_003         5      2  false \u001b[90m missing \u001b[0m\u001b[90m missing \u001b[0m   false  C2 x C2\n",
      "  32 │ r2n5_001         5      2  false \u001b[90m missing \u001b[0m\u001b[90m missing \u001b[0m   false  D12\n",
      "  33 │ r2n5_1f2         5      2  false \u001b[90m missing \u001b[0m\u001b[90m missing \u001b[0m   false  D12\n",
      "  34 │ r2n5_2d3         5      2  false \u001b[90m missing \u001b[0m\u001b[90m missing \u001b[0m    true  S4\n",
      "  35 │ r2n5_7f3         5      2  false \u001b[90m missing \u001b[0m\u001b[90m missing \u001b[0m    true  D12\n",
      "  36 │ r2n5_013         5      2   true \u001b[90m missing \u001b[0m\u001b[90m missing \u001b[0m    true  S3\n",
      "  37 │ r2n5_ff3         5      2  false \u001b[90m missing \u001b[0m\u001b[90m missing \u001b[0m    true  S5\n",
      "  38 │ r2n5_7b3         5      2  false \u001b[90m missing \u001b[0m\u001b[90m missing \u001b[0m   false  D8\n",
      "  39 │ r3n5_ff3         5      3   true \u001b[90m missing \u001b[0m\u001b[90m missing \u001b[0m\u001b[90m missing \u001b[0m S5\n",
      "  40 │ r1n6_7           6      1  false \u001b[90m missing \u001b[0m\u001b[90m missing \u001b[0m\u001b[90m missing \u001b[0m S3 x S3\n",
      "  41 │ r1n6_f           6      1  false \u001b[90m missing \u001b[0m\u001b[90m missing \u001b[0m\u001b[90m missing \u001b[0m C2 x S4\n",
      "  42 │ r1n6_1           6      1  false \u001b[90m missing \u001b[0m\u001b[90m missing \u001b[0m\u001b[90m missing \u001b[0m S5\n",
      "  43 │ r1n6_1f          6      1  false \u001b[90m missing \u001b[0m\u001b[90m missing \u001b[0m\u001b[90m missing \u001b[0m S5\n",
      "  44 │ r1n6_3f          6      1  false \u001b[90m missing \u001b[0m\u001b[90m missing \u001b[0m\u001b[90m missing \u001b[0m S6\n",
      "  45 │ r1n6_3           6      1  false \u001b[90m missing \u001b[0m\u001b[90m missing \u001b[0m\u001b[90m missing \u001b[0m C2 x S4\n",
      "  46 │ r2n6_0067        6      2  false \u001b[90m missing \u001b[0m\u001b[90m missing \u001b[0m\u001b[90m missing \u001b[0m C2 x C2 x C2\n",
      "  47 │ r2n6_ff7f        6      2  false \u001b[90m missing \u001b[0m\u001b[90m missing \u001b[0m\u001b[90m missing \u001b[0m S6\n",
      "  48 │ r2n6_1f5f        6      2  false \u001b[90m missing \u001b[0m\u001b[90m missing \u001b[0m\u001b[90m missing \u001b[0m D12\n",
      "  49 │ r2n6_7b7f        6      2  false \u001b[90m missing \u001b[0m\u001b[90m missing \u001b[0m\u001b[90m missing \u001b[0m C2 x D8\n",
      "  50 │ r2n6_2d6f        6      2  false \u001b[90m missing \u001b[0m\u001b[90m missing \u001b[0m\u001b[90m missing \u001b[0m S5\n",
      "  51 │ r2n6_0d4f        6      2  false \u001b[90m missing \u001b[0m\u001b[90m missing \u001b[0m\u001b[90m missing \u001b[0m D8\n",
      "  52 │ r2n6_003         6      2  false \u001b[90m missing \u001b[0m\u001b[90m missing \u001b[0m\u001b[90m missing \u001b[0m D12\n",
      "  53 │ r2n6_0023        6      2  false \u001b[90m missing \u001b[0m\u001b[90m missing \u001b[0m\u001b[90m missing \u001b[0m S3 x S3\n",
      "  54 │ r2n6_1f7f        6      2  false \u001b[90m missing \u001b[0m\u001b[90m missing \u001b[0m\u001b[90m missing \u001b[0m S3 x S3\n",
      "  55 │ r2n6_007         6      2  false \u001b[90m missing \u001b[0m\u001b[90m missing \u001b[0m\u001b[90m missing \u001b[0m D12\n",
      "  56 │ r2n6_1f5c        6      2  false \u001b[90m missing \u001b[0m\u001b[90m missing \u001b[0m\u001b[90m missing \u001b[0m (S3 x S3) : C2\n",
      "  57 │ r2n6_001         6      2  false \u001b[90m missing \u001b[0m\u001b[90m missing \u001b[0m\u001b[90m missing \u001b[0m C2 x S4\n",
      "  58 │ r2n6_037f        6      2  false \u001b[90m missing \u001b[0m\u001b[90m missing \u001b[0m\u001b[90m missing \u001b[0m C2 x S4\n",
      "  59 │ r2n6_0467        6      2  false \u001b[90m missing \u001b[0m\u001b[90m missing \u001b[0m\u001b[90m missing \u001b[0m C2 x S4\n",
      "  60 │ r2n6_016e        6      2  false \u001b[90m missing \u001b[0m\u001b[90m missing \u001b[0m\u001b[90m missing \u001b[0m D12\n",
      "  61 │ r2n6_00f         6      2  false \u001b[90m missing \u001b[0m\u001b[90m missing \u001b[0m\u001b[90m missing \u001b[0m S4\n",
      "  62 │ r2n6_001f        6      2  false \u001b[90m missing \u001b[0m\u001b[90m missing \u001b[0m\u001b[90m missing \u001b[0m S5\n",
      "  63 │ r2n6_0066        6      2  false \u001b[90m missing \u001b[0m\u001b[90m missing \u001b[0m\u001b[90m missing \u001b[0m C2 x D8\n",
      "  64 │ r2n6_037e        6      2  false \u001b[90m missing \u001b[0m\u001b[90m missing \u001b[0m\u001b[90m missing \u001b[0m C2 x S4\n",
      "  65 │ r2n6_0d6f        6      2  false \u001b[90m missing \u001b[0m\u001b[90m missing \u001b[0m\u001b[90m missing \u001b[0m D12\n",
      "  66 │ r2n6_7b7e        6      2  false \u001b[90m missing \u001b[0m\u001b[90m missing \u001b[0m\u001b[90m missing \u001b[0m C2 x S4\n",
      "  67 │ r2n6_016f        6      2  false \u001b[90m missing \u001b[0m\u001b[90m missing \u001b[0m\u001b[90m missing \u001b[0m D12\n",
      "  68 │ r2n6_7f7f        6      2  false \u001b[90m missing \u001b[0m\u001b[90m missing \u001b[0m\u001b[90m missing \u001b[0m C2 x S4\n",
      "  69 │ r3n6_02cb7       6      3   true \u001b[90m missing \u001b[0m\u001b[90m missing \u001b[0m\u001b[90m missing \u001b[0m D12\n",
      "  70 │ r3n6_07df3       6      3  false \u001b[90m missing \u001b[0m\u001b[90m missing \u001b[0m\u001b[90m missing \u001b[0m C2 x D8\n",
      "  71 │ r3n6_0ffff       6      3  false \u001b[90m missing \u001b[0m\u001b[90m missing \u001b[0m\u001b[90m missing \u001b[0m C2 x S4\n",
      "  72 │ r3n6_01c7f       6      3   true \u001b[90m missing \u001b[0m\u001b[90m missing \u001b[0m\u001b[90m missing \u001b[0m S3 x S3\n",
      "  73 │ r3n6_7efdf       6      3   true \u001b[90m missing \u001b[0m\u001b[90m missing \u001b[0m\u001b[90m missing \u001b[0m S3\n",
      "  74 │ r3n6_079e0       6      3  false \u001b[90m missing \u001b[0m\u001b[90m missing \u001b[0m\u001b[90m missing \u001b[0m C2 x S4\n",
      "  75 │ r3n6_0fff7       6      3   true \u001b[90m missing \u001b[0m\u001b[90m missing \u001b[0m\u001b[90m missing \u001b[0m D12\n",
      "  76 │ r3n6_00003       6      3  false \u001b[90m missing \u001b[0m\u001b[90m missing \u001b[0m\u001b[90m missing \u001b[0m C2 x C2 x C2\n",
      "  77 │ r3n6_7ffff       6      3   true \u001b[90m missing \u001b[0m\u001b[90m missing \u001b[0m\u001b[90m missing \u001b[0m S3 x S3\n",
      "  78 │ r3n6_07dff       6      3  false \u001b[90m missing \u001b[0m\u001b[90m missing \u001b[0m\u001b[90m missing \u001b[0m C2 x C2 x C2\n",
      "  79 │ r3n6_7efdd       6      3   true \u001b[90m missing \u001b[0m\u001b[90m missing \u001b[0m\u001b[90m missing \u001b[0m S4\n",
      "  80 │ r3n6_00001       6      3  false \u001b[90m missing \u001b[0m\u001b[90m missing \u001b[0m\u001b[90m missing \u001b[0m S3 x S3\n",
      "  81 │ r3n6_7efff       6      3   true \u001b[90m missing \u001b[0m\u001b[90m missing \u001b[0m\u001b[90m missing \u001b[0m D8\n",
      "  82 │ r3n6_7fffe       6      3   true \u001b[90m missing \u001b[0m\u001b[90m missing \u001b[0m\u001b[90m missing \u001b[0m (S3 x S3) : C2\n",
      "  83 │ r3n6_001ef       6      3  false \u001b[90m missing \u001b[0m\u001b[90m missing \u001b[0m\u001b[90m missing \u001b[0m D8\n",
      "  84 │ r3n6_003ff       6      3  false \u001b[90m missing \u001b[0m\u001b[90m missing \u001b[0m\u001b[90m missing \u001b[0m S5\n",
      "  85 │ r3n6_0fff0       6      3  false \u001b[90m missing \u001b[0m\u001b[90m missing \u001b[0m\u001b[90m missing \u001b[0m C2 x S4\n",
      "  86 │ r3n6_379ff       6      3   true \u001b[90m missing \u001b[0m\u001b[90m missing \u001b[0m\u001b[90m missing \u001b[0m D12\n",
      "  87 │ r3n6_01c7e       6      3   true \u001b[90m missing \u001b[0m\u001b[90m missing \u001b[0m\u001b[90m missing \u001b[0m S3 x S3\n",
      "  88 │ r3n6_0007e       6      3  false \u001b[90m missing \u001b[0m\u001b[90m missing \u001b[0m\u001b[90m missing \u001b[0m D12\n",
      "  89 │ r3n6_000b7       6      3  false \u001b[90m missing \u001b[0m\u001b[90m missing \u001b[0m\u001b[90m missing \u001b[0m S4\n",
      "  90 │ r3n6_079e3       6      3  false \u001b[90m missing \u001b[0m\u001b[90m missing \u001b[0m\u001b[90m missing \u001b[0m C2 x C2 x C2\n",
      "  91 │ r3n6_12cb7       6      3   true \u001b[90m missing \u001b[0m\u001b[90m missing \u001b[0m\u001b[90m missing \u001b[0m S5\n",
      "  92 │ r3n6_fffff       6      3   true \u001b[90m missing \u001b[0m\u001b[90m missing \u001b[0m\u001b[90m missing \u001b[0m S6\n",
      "  93 │ r3n6_00c37       6      3   true \u001b[90m missing \u001b[0m\u001b[90m missing \u001b[0m\u001b[90m missing \u001b[0m D12\n",
      "  94 │ r3n6_37dff       6      3   true \u001b[90m missing \u001b[0m\u001b[90m missing \u001b[0m\u001b[90m missing \u001b[0m C2 x S4\n",
      "  95 │ r3n6_00036       6      3  false \u001b[90m missing \u001b[0m\u001b[90m missing \u001b[0m\u001b[90m missing \u001b[0m D8\n",
      "  96 │ r3n6_001ff       6      3  false \u001b[90m missing \u001b[0m\u001b[90m missing \u001b[0m\u001b[90m missing \u001b[0m D12\n",
      "  97 │ r3n6_0007f       6      3  false \u001b[90m missing \u001b[0m\u001b[90m missing \u001b[0m\u001b[90m missing \u001b[0m D12\n",
      "  98 │ r3n6_00007       6      3   true \u001b[90m missing \u001b[0m\u001b[90m missing \u001b[0m\u001b[90m missing \u001b[0m D12\n",
      "  99 │ r3n6_00037       6      3  false \u001b[90m missing \u001b[0m\u001b[90m missing \u001b[0m\u001b[90m missing \u001b[0m C2 x C2\n",
      " 100 │ r3n6_02cb3       6      3   true \u001b[90m missing \u001b[0m\u001b[90m missing \u001b[0m\u001b[90m missing \u001b[0m D8\n",
      " 101 │ r3n6_00413       6      3  false \u001b[90m missing \u001b[0m\u001b[90m missing \u001b[0m\u001b[90m missing \u001b[0m C2 x S4\n",
      " 102 │ r3n6_079ef       6      3  false \u001b[90m missing \u001b[0m\u001b[90m missing \u001b[0m\u001b[90m missing \u001b[0m C2 x D8\n",
      " 103 │ r3n6_00013       6      3  false \u001b[90m missing \u001b[0m\u001b[90m missing \u001b[0m\u001b[90m missing \u001b[0m D12\n",
      " 104 │ r3n6_0000f       6      3  false \u001b[90m missing \u001b[0m\u001b[90m missing \u001b[0m\u001b[90m missing \u001b[0m C2 x S4\n",
      " 105 │ r3n6_07dfd       6      3   true \u001b[90m missing \u001b[0m\u001b[90m missing \u001b[0m\u001b[90m missing \u001b[0m C2 x C2\n",
      " 106 │ r3n6_00c36       6      3   true \u001b[90m missing \u001b[0m\u001b[90m missing \u001b[0m\u001b[90m missing \u001b[0m D12"
     ]
    }
   ],
   "source": [
    "path = \"../data/data_table.csv\"\n",
    "df = CSV.read(path,DataFrame)\n",
    "x = select(df,[:Name,:length,:rank, :Aut_B,:Aut_R,:Aut_F,:Aut_C,:describe])\n",
    "sort!(x,[:length,:rank])\n",
    "print(x)"
   ]
  },
  {
   "cell_type": "code",
   "execution_count": 7,
   "id": "c9513ccb-3d35-443f-bc34-d7aa80610f68",
   "metadata": {},
   "outputs": [
    {
     "data": {
      "text/plain": [
       "17-element Vector{Vector{Int64}}:\n",
       " [1, 2, 4]\n",
       " [1, 3, 4]\n",
       " [2, 3, 4]\n",
       " [1, 2, 5]\n",
       " [1, 3, 5]\n",
       " [2, 3, 5]\n",
       " [2, 4, 5]\n",
       " [3, 4, 5]\n",
       " [1, 2, 6]\n",
       " [1, 3, 6]\n",
       " [2, 3, 6]\n",
       " [1, 4, 6]\n",
       " [3, 4, 6]\n",
       " [1, 5, 6]\n",
       " [2, 5, 6]\n",
       " [3, 5, 6]\n",
       " [4, 5, 6]"
      ]
     },
     "execution_count": 7,
     "metadata": {},
     "output_type": "execute_result"
    }
   ],
   "source": [
    "#To get a Matroid from its Name use:\n",
    "M = nameToMatroid(\"r3n6_7efdf\")\n",
    "bases(M)"
   ]
  },
  {
   "cell_type": "code",
   "execution_count": 8,
   "id": "982b8974-9649-4bd0-a924-a51a18d37d07",
   "metadata": {},
   "outputs": [
    {
     "data": {
      "text/plain": [
       "Dict{String, Any} with 2 entries:\n",
       "  \"revlex_basis_encoding\" => \"0******0******0*****\"\n",
       "  \"Aut_bases\"             => FreeAssAlgElem[u[1,1]^2 - u[1,1], u[1,1]*u[1,2], u…"
      ]
     },
     "execution_count": 8,
     "metadata": {},
     "output_type": "execute_result"
    }
   ],
   "source": [
    "#To get every computed result for a Matroid use:\n",
    "loadInfo(M)"
   ]
  },
  {
   "cell_type": "code",
   "execution_count": 9,
   "id": "f4e88577-ba87-455f-afb7-8e3cc0eb57ae",
   "metadata": {},
   "outputs": [
    {
     "data": {
      "text/plain": [
       "true"
      ]
     },
     "execution_count": 9,
     "metadata": {},
     "output_type": "execute_result"
    }
   ],
   "source": [
    "aut_b1 = loadInfo(M)[\"Aut_bases\"]\n",
    "aut_b2 = loadInfo(uniform_matroid(3,6))[\"Aut_bases\"]\n",
    "#To check containment \n",
    "isInIdeal(aut_b2[1],aut_b1) #Can Take Longer...."
   ]
  },
  {
   "cell_type": "code",
   "execution_count": 10,
   "id": "08040669-54e3-4d47-9722-ab46606e262e",
   "metadata": {},
   "outputs": [
    {
     "data": {
      "text/plain": [
       "\"r2n6_ff7f\""
      ]
     },
     "execution_count": 10,
     "metadata": {},
     "output_type": "execute_result"
    }
   ],
   "source": [
    "getName(uniform_matroid(2,6))"
   ]
  },
  {
   "cell_type": "code",
   "execution_count": null,
   "id": "c82f8588-4aa0-4312-a184-3cf43a5ac1bd",
   "metadata": {},
   "outputs": [],
   "source": []
  },
  {
   "cell_type": "code",
   "execution_count": null,
   "id": "a8778969-5ebb-4a65-ba70-dac9de1c997b",
   "metadata": {},
   "outputs": [],
   "source": []
  }
 ],
 "metadata": {
  "kernelspec": {
   "display_name": "Julia 1.9.1",
   "language": "julia",
   "name": "julia-1.9"
  },
  "language_info": {
   "file_extension": ".jl",
   "mimetype": "application/julia",
   "name": "julia",
   "version": "1.9.3"
  }
 },
 "nbformat": 4,
 "nbformat_minor": 5
}
